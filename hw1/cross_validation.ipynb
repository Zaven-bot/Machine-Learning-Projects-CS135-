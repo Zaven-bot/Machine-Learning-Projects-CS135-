{
 "cells": [
  {
   "cell_type": "code",
   "execution_count": 2,
   "id": "68cae9fd",
   "metadata": {},
   "outputs": [],
   "source": [
    "import numpy as np\n",
    "\n",
    "from performance_metrics import calc_root_mean_squared_error\n",
    "\n",
    "def train_models_and_calc_scores_for_n_fold_cv(\n",
    "        estimator, x_NF, y_N, n_folds=3, random_state=0):\n",
    "    ''' Perform n-fold cross validation for a specific sklearn estimator object\n",
    "\n",
    "    Args\n",
    "    ----\n",
    "    estimator : any regressor object with sklearn-like API\n",
    "        Supports 'fit' and 'predict' methods.\n",
    "    x_NF : 2D numpy array, shape (n_examples, n_features) = (N, F)\n",
    "        Input measurements (\"features\") for all examples of interest.\n",
    "        Each row is a feature vector for one example.\n",
    "    y_N : 1D numpy array, shape (n_examples,)\n",
    "        Output measurements (\"responses\") for all examples of interest.\n",
    "        Each row is a scalar response for one example.\n",
    "    n_folds : int\n",
    "        Number of folds to divide provided dataset into.\n",
    "    random_state : int or numpy.RandomState instance\n",
    "        Allows reproducible random splits.\n",
    "\n",
    "    Returns\n",
    "    -------\n",
    "    train_error_per_fold : 1D numpy array, size n_folds\n",
    "        One entry per fold\n",
    "        Entry f gives the error computed for train set for fold f\n",
    "    test_error_per_fold : 1D numpy array, size n_folds\n",
    "        One entry per fold\n",
    "        Entry f gives the error computed for test set for fold f\n",
    "\n",
    "    Examples\n",
    "    --------\n",
    "    # Create simple dataset of N examples where y given x\n",
    "    # is perfectly explained by a linear regression model\n",
    "    >>> N = 101\n",
    "    >>> n_folds = 7\n",
    "    >>> x_N3 = np.random.RandomState(0).rand(N, 3)\n",
    "    >>> y_N = np.dot(x_N3, np.asarray([1., -2.0, 3.0])) - 1.3337\n",
    "    >>> y_N.shape\n",
    "    (101,)\n",
    "\n",
    "    >>> import sklearn.linear_model\n",
    "    >>> my_regr = sklearn.linear_model.LinearRegression()\n",
    "    >>> tr_K, te_K = train_models_and_calc_scores_for_n_fold_cv(\n",
    "    ...                 my_regr, x_N3, y_N, n_folds=n_folds, random_state=0)\n",
    "\n",
    "    # Training error should be indistiguishable from zero\n",
    "    >>> np.array2string(tr_K, precision=8, suppress_small=True)\n",
    "    '[0. 0. 0. 0. 0. 0. 0.]'\n",
    "\n",
    "    # Testing error should be indistinguishable from zero\n",
    "    >>> np.array2string(te_K, precision=8, suppress_small=True)\n",
    "    '[0. 0. 0. 0. 0. 0. 0.]'\n",
    "    '''\n",
    "    train_error_per_fold = np.zeros(2, dtype=np.int32)\n",
    "    test_error_per_fold = np.zeros(2, dtype=np.int32)\n",
    "\n",
    "    train_fold_ids_list, test_fold_ids_list = make_train_and_test_row_ids_for_n_fold_cv(len(y_N), \n",
    "                                                n_folds, random_state=random_state)\n",
    "\n",
    "    # TODO loop over folds and compute the train and test error\n",
    "    # for the provided estimator\n",
    "    \n",
    "    train_error_per_fold = []\n",
    "    test_error_per_fold = []\n",
    "    \n",
    "    for fold in range (n_folds):\n",
    "        \n",
    "        # Get the list of train ids / fold ids\n",
    "        train_fold_ids = train_fold_ids_list[fold]\n",
    "        test_fold_ids = test_fold_ids_list[fold]\n",
    "        \n",
    "        # Training and testing features/targets \n",
    "        x_train_NF = x_NF[train_fold_ids]\n",
    "        y_train_N = y_N[train_fold_ids]\n",
    "        x_test_NF = x_NF[test_fold_ids]\n",
    "        y_test_N = y_N[test_fold_ids]\n",
    "        \n",
    "        # Fit the model based off of training data\n",
    "        estimator.fit(x_train_NF, y_train_N)\n",
    "        y_train_pdict = estimator.predict(x_train_NF)\n",
    "        y_test_pdict = estimator.predict(x_test_NF)\n",
    "        \n",
    "        # calculate MSE to measure diff between measured/predicted values\n",
    "        fold_train_error = np.mean((y_train_N - y_train_pdict) ** 2)\n",
    "        fold_test_error = np.mean((y_test_N - y_test_pdict) ** 2)\n",
    "        \n",
    "        # append model error results \n",
    "        train_error_per_fold.append(fold_train_error)\n",
    "        test_error_per_fold.append(fold_test_error)\n",
    "\n",
    "    print(type(train_error_per_fold))\n",
    "    print(\"GOOBA GOOBA GOOBA\")\n",
    "    \n",
    "    return train_error_per_fold, test_error_per_fold\n",
    "\n",
    "\n",
    "def make_train_and_test_row_ids_for_n_fold_cv(\n",
    "        n_examples=0, n_folds=3, random_state=0):\n",
    "    ''' Divide row ids into train and test sets for n-fold cross validation.\n",
    "\n",
    "    Will *shuffle* the row ids via a pseudorandom number generator before\n",
    "    dividing into folds.\n",
    "\n",
    "    Args\n",
    "    ----\n",
    "    n_examples : int\n",
    "        Total number of examples to allocate into train/test sets\n",
    "    n_folds : int\n",
    "        Number of folds requested\n",
    "    random_state : int or numpy RandomState object\n",
    "        Pseudorandom number generator (or seed) for reproducibility\n",
    "\n",
    "    Returns\n",
    "    -------\n",
    "    train_ids_per_fold : list of 1D np.arrays\n",
    "        One entry per fold\n",
    "        Each entry is a 1-dim numpy array of unique integers between 0 to N\n",
    "    test_ids_per_fold : list of 1D np.arrays\n",
    "        One entry per fold\n",
    "        Each entry is a 1-dim numpy array of unique integers between 0 to N\n",
    "\n",
    "    Guarantees for Return Values\n",
    "    ----------------------------\n",
    "    Across all folds, guarantee that no two folds put same object in test set.\n",
    "    For each fold f, we need to guarantee:\n",
    "    * The *union* of train_ids_per_fold[f] and test_ids_per_fold[f]\n",
    "    is equal to [0, 1, ... N-1]\n",
    "    * The *intersection* of the two is the empty set\n",
    "    * The total size of train and test ids for any fold is equal to N\n",
    "\n",
    "    Examples\n",
    "    --------\n",
    "    >>> N = 11\n",
    "    >>> n_folds = 3\n",
    "    >>> tr_ids_per_fold, te_ids_per_fold = (\n",
    "    ...     make_train_and_test_row_ids_for_n_fold_cv(N, n_folds))\n",
    "    >>> len(tr_ids_per_fold)\n",
    "    3\n",
    "\n",
    "    # Count of items in training sets\n",
    "    >>> np.sort([len(tr) for tr in tr_ids_per_fold])\n",
    "    array([7, 7, 8])\n",
    "\n",
    "    # Count of items in the test sets\n",
    "    >>> np.sort([len(te) for te in te_ids_per_fold])\n",
    "    array([3, 4, 4])\n",
    "\n",
    "    # Test ids should uniquely cover the interval [0, N)\n",
    "    >>> np.sort(np.hstack([te_ids_per_fold[f] for f in range(n_folds)]))\n",
    "    array([ 0,  1,  2,  3,  4,  5,  6,  7,  8,  9, 10])\n",
    "\n",
    "    # Train ids should cover the interval [0, N) TWICE\n",
    "    >>> np.sort(np.hstack([tr_ids_per_fold[f] for f in range(n_folds)]))\n",
    "    array([ 0,  0,  1,  1,  2,  2,  3,  3,  4,  4,  5,  5,  6,  6,  7,  7,  8,\n",
    "            8,  9,  9, 10, 10])\n",
    "    '''\n",
    "    if hasattr(random_state, 'rand'):\n",
    "        # Handle case where provided random_state is a random generator\n",
    "        # (e.g. has methods rand() and randn())\n",
    "        random_state = random_state # just remind us we use the passed-in value\n",
    "    else:\n",
    "        # Handle case where we pass \"seed\" for a PRNG as an integer\n",
    "        random_state = np.random.RandomState(int(random_state))\n",
    "\n",
    "    # TODO obtain a shuffled order of the n_examples\n",
    "    shuffled_ids = np.arange(n_examples)\n",
    "    random_state.shuffle(shuffled_ids)\n",
    "    \n",
    "    train_ids_per_fold = list()\n",
    "    test_ids_per_fold = list()\n",
    "    \n",
    "    # TODO establish the row ids that belong to each fold's\n",
    "    # train subset and test subset\n",
    "    \n",
    "    fold_sizes = []\n",
    "    for fold in range(n_folds):\n",
    "        if fold < n_examples % n_folds:\n",
    "            fold_sizes.append(n_examples // n_folds + 1)\n",
    "        else:\n",
    "            fold_sizes.append(n_examples // n_folds)\n",
    "\n",
    "    # establish start\n",
    "    fold_start = 0\n",
    "\n",
    "    for fold in range(n_folds):\n",
    "        # establish end of fold\n",
    "        # make sure fold_end doesn't exceed n_examples\n",
    "        fold_end = min(fold_start + fold_sizes[fold], n_examples)\n",
    "\n",
    "        # split shuffled ids into train/test sets\n",
    "        test_fold_ids = shuffled_ids[fold_start:fold_end]\n",
    "        train_fold_ids = np.concatenate([shuffled_ids[:fold_start], shuffled_ids[fold_end:]])\n",
    "        \n",
    "        # update fold start \n",
    "        fold_start = fold_start + fold_sizes[fold]\n",
    "\n",
    "        # add these train/test indeces sets parallel to each other\n",
    "        train_ids_per_fold.append(train_fold_ids)\n",
    "        test_ids_per_fold.append(test_fold_ids)        \n",
    "    \n",
    "    return train_ids_per_fold, test_ids_per_fold"
   ]
  },
  {
   "cell_type": "code",
   "execution_count": 3,
   "id": "a617c199",
   "metadata": {},
   "outputs": [
    {
     "name": "stdout",
     "output_type": "stream",
     "text": [
      "Train IDS per fold:  [array([1, 6, 7, 3, 0, 5]), array([2, 8, 4, 9, 3, 0, 5]), array([2, 8, 4, 9, 1, 6, 7])] \n",
      "\n",
      "Test IDS per fold:  [array([2, 8, 4, 9]), array([1, 6, 7]), array([3, 0, 5])]\n"
     ]
    }
   ],
   "source": [
    "n_examples = 10\n",
    "n_folds = 3\n",
    "random_state = 0\n",
    "\n",
    "train_ids_per_fold, test_ids_per_fold = make_train_and_test_row_ids_for_n_fold_cv(\n",
    "    n_examples, n_folds, random_state)\n",
    "\n",
    "print(\"Train IDS per fold: \", train_ids_per_fold,\"\\n\")\n",
    "print(\"Test IDS per fold: \", test_ids_per_fold)"
   ]
  },
  {
   "cell_type": "code",
   "execution_count": 4,
   "id": "78ec4017",
   "metadata": {},
   "outputs": [
    {
     "name": "stdout",
     "output_type": "stream",
     "text": [
      "[array([6, 1, 7, 8, 3, 0, 5]), array([ 4,  9,  2, 10,  3,  0,  5]), array([ 4,  9,  2, 10,  6,  1,  7,  8])]\n",
      "\n",
      "\n",
      "[array([ 4,  9,  2, 10]), array([6, 1, 7, 8]), array([3, 0, 5])]\n"
     ]
    }
   ],
   "source": [
    "N = 11\n",
    "n_folds = 3\n",
    "tr_ids_per_fold, te_ids_per_fold = (make_train_and_test_row_ids_for_n_fold_cv(N, n_folds))\n",
    "print(tr_ids_per_fold)\n",
    "print(\"\\n\")\n",
    "print(te_ids_per_fold)"
   ]
  },
  {
   "cell_type": "code",
   "execution_count": 5,
   "id": "2d7bba99",
   "metadata": {},
   "outputs": [
    {
     "data": {
      "text/plain": [
       "array([7, 7, 8])"
      ]
     },
     "execution_count": 5,
     "metadata": {},
     "output_type": "execute_result"
    }
   ],
   "source": [
    "# Count of items in training sets\n",
    "np.sort([len(tr) for tr in tr_ids_per_fold])\n",
    "# array([7, 7, 8])"
   ]
  },
  {
   "cell_type": "code",
   "execution_count": 6,
   "id": "9271a869",
   "metadata": {},
   "outputs": [
    {
     "data": {
      "text/plain": [
       "array([3, 4, 4])"
      ]
     },
     "execution_count": 6,
     "metadata": {},
     "output_type": "execute_result"
    }
   ],
   "source": [
    "# Count of items in the test sets\n",
    "np.sort([len(te) for te in te_ids_per_fold])\n",
    "# array([3, 4, 4])"
   ]
  },
  {
   "cell_type": "code",
   "execution_count": 7,
   "id": "ddf3710c",
   "metadata": {},
   "outputs": [
    {
     "data": {
      "text/plain": [
       "array([ 0,  1,  2,  3,  4,  5,  6,  7,  8,  9, 10])"
      ]
     },
     "execution_count": 7,
     "metadata": {},
     "output_type": "execute_result"
    }
   ],
   "source": [
    "# Test ids should uniquely cover the interval [0, N)\n",
    "np.sort(np.hstack([te_ids_per_fold[f] for f in range(n_folds)]))\n",
    "# array([ 0,  1,  2,  3,  4,  5,  6,  7,  8,  9, 10])"
   ]
  },
  {
   "cell_type": "code",
   "execution_count": 8,
   "id": "4669d1fd",
   "metadata": {},
   "outputs": [
    {
     "data": {
      "text/plain": [
       "array([ 0,  0,  1,  1,  2,  2,  3,  3,  4,  4,  5,  5,  6,  6,  7,  7,  8,\n",
       "        8,  9,  9, 10, 10])"
      ]
     },
     "execution_count": 8,
     "metadata": {},
     "output_type": "execute_result"
    }
   ],
   "source": [
    "# Train ids should cover the interval [0, N) TWICE\n",
    "np.sort(np.hstack([tr_ids_per_fold[f] for f in range(n_folds)]))\n",
    "# array([ 0,  0,  1,  1,  2,  2,  3,  3,  4,  4,  5,  5,  6,  6,  7,  7,  8,\n",
    "#             8,  9,  9, 10, 10])"
   ]
  },
  {
   "cell_type": "code",
   "execution_count": 10,
   "id": "5619237f",
   "metadata": {},
   "outputs": [
    {
     "data": {
      "text/plain": [
       "array([ 0,  0,  1,  1,  2,  2,  3,  3,  4,  4,  5,  5,  6,  6,  7,  7,  8,\n",
       "        8,  9,  9, 10, 10])"
      ]
     },
     "execution_count": 10,
     "metadata": {},
     "output_type": "execute_result"
    }
   ],
   "source": [
    "N = 11\n",
    "n_folds = 3\n",
    "tr_ids_per_fold, te_ids_per_fold = (make_train_and_test_row_ids_for_n_fold_cv(N, n_folds))\n",
    "len(tr_ids_per_fold)\n",
    "\n",
    "np.sort([len(tr) for tr in tr_ids_per_fold])\n",
    "np.sort([len(te) for te in te_ids_per_fold])\n",
    "np.sort(np.hstack([te_ids_per_fold[f] for f in range(n_folds)]))\n",
    "np.sort(np.hstack([tr_ids_per_fold[f] for f in range(n_folds)]))\n"
   ]
  },
  {
   "cell_type": "code",
   "execution_count": 11,
   "id": "9360408a",
   "metadata": {},
   "outputs": [
    {
     "name": "stdout",
     "output_type": "stream",
     "text": [
      "<class 'list'>\n",
      "GOOBA GOOBA GOOBA\n"
     ]
    },
    {
     "ename": "AttributeError",
     "evalue": "'list' object has no attribute 'size'",
     "output_type": "error",
     "traceback": [
      "\u001b[0;31m---------------------------------------------------------------------------\u001b[0m",
      "\u001b[0;31mAttributeError\u001b[0m                            Traceback (most recent call last)",
      "Cell \u001b[0;32mIn[11], line 11\u001b[0m\n\u001b[1;32m      8\u001b[0m my_regr \u001b[38;5;241m=\u001b[39m sklearn\u001b[38;5;241m.\u001b[39mlinear_model\u001b[38;5;241m.\u001b[39mLinearRegression()\n\u001b[1;32m      9\u001b[0m tr_K, te_K \u001b[38;5;241m=\u001b[39m train_models_and_calc_scores_for_n_fold_cv(my_regr, x_N3, y_N, n_folds\u001b[38;5;241m=\u001b[39mn_folds, random_state\u001b[38;5;241m=\u001b[39m\u001b[38;5;241m0\u001b[39m)\n\u001b[0;32m---> 11\u001b[0m \u001b[43mnp\u001b[49m\u001b[38;5;241;43m.\u001b[39;49m\u001b[43marray2string\u001b[49m\u001b[43m(\u001b[49m\u001b[43mtr_K\u001b[49m\u001b[43m,\u001b[49m\u001b[43m \u001b[49m\u001b[43mprecision\u001b[49m\u001b[38;5;241;43m=\u001b[39;49m\u001b[38;5;241;43m8\u001b[39;49m\u001b[43m,\u001b[49m\u001b[43m \u001b[49m\u001b[43msuppress_small\u001b[49m\u001b[38;5;241;43m=\u001b[39;49m\u001b[38;5;28;43;01mTrue\u001b[39;49;00m\u001b[43m)\u001b[49m\n\u001b[1;32m     12\u001b[0m np\u001b[38;5;241m.\u001b[39marray2string(te_K, precision\u001b[38;5;241m=\u001b[39m\u001b[38;5;241m8\u001b[39m, suppress_small\u001b[38;5;241m=\u001b[39m\u001b[38;5;28;01mTrue\u001b[39;00m)\n",
      "File \u001b[0;32m<__array_function__ internals>:180\u001b[0m, in \u001b[0;36marray2string\u001b[0;34m(*args, **kwargs)\u001b[0m\n",
      "File \u001b[0;32m~/micromamba/envs/cs135_env/lib/python3.10/site-packages/numpy/core/arrayprint.py:733\u001b[0m, in \u001b[0;36marray2string\u001b[0;34m(a, max_line_width, precision, suppress_small, separator, prefix, style, formatter, threshold, edgeitems, sign, floatmode, suffix, legacy)\u001b[0m\n\u001b[1;32m    730\u001b[0m     options[\u001b[38;5;124m'\u001b[39m\u001b[38;5;124mlinewidth\u001b[39m\u001b[38;5;124m'\u001b[39m] \u001b[38;5;241m-\u001b[39m\u001b[38;5;241m=\u001b[39m \u001b[38;5;28mlen\u001b[39m(suffix)\n\u001b[1;32m    732\u001b[0m \u001b[38;5;66;03m# treat as a null array if any of shape elements == 0\u001b[39;00m\n\u001b[0;32m--> 733\u001b[0m \u001b[38;5;28;01mif\u001b[39;00m \u001b[43ma\u001b[49m\u001b[38;5;241;43m.\u001b[39;49m\u001b[43msize\u001b[49m \u001b[38;5;241m==\u001b[39m \u001b[38;5;241m0\u001b[39m:\n\u001b[1;32m    734\u001b[0m     \u001b[38;5;28;01mreturn\u001b[39;00m \u001b[38;5;124m\"\u001b[39m\u001b[38;5;124m[]\u001b[39m\u001b[38;5;124m\"\u001b[39m\n\u001b[1;32m    736\u001b[0m \u001b[38;5;28;01mreturn\u001b[39;00m _array2string(a, options, separator, prefix)\n",
      "\u001b[0;31mAttributeError\u001b[0m: 'list' object has no attribute 'size'"
     ]
    }
   ],
   "source": [
    "N = 101\n",
    "n_folds = 7\n",
    "x_N3 = np.random.RandomState(0).rand(N, 3)\n",
    "y_N = np.dot(x_N3, np.asarray([1., -2.0, 3.0])) - 1.3337\n",
    "y_N.shape\n",
    "\n",
    "import sklearn.linear_model\n",
    "my_regr = sklearn.linear_model.LinearRegression()\n",
    "tr_K, te_K = train_models_and_calc_scores_for_n_fold_cv(my_regr, x_N3, y_N, n_folds=n_folds, random_state=0)\n",
    "\n",
    "np.array2string(tr_K, precision=8, suppress_small=True)\n",
    "np.array2string(te_K, precision=8, suppress_small=True)"
   ]
  },
  {
   "cell_type": "code",
   "execution_count": null,
   "id": "7b28eee4",
   "metadata": {},
   "outputs": [],
   "source": []
  }
 ],
 "metadata": {
  "kernelspec": {
   "display_name": "Python 3 (ipykernel)",
   "language": "python",
   "name": "python3"
  },
  "language_info": {
   "codemirror_mode": {
    "name": "ipython",
    "version": 3
   },
   "file_extension": ".py",
   "mimetype": "text/x-python",
   "name": "python",
   "nbconvert_exporter": "python",
   "pygments_lexer": "ipython3",
   "version": "3.10.12"
  }
 },
 "nbformat": 4,
 "nbformat_minor": 5
}
