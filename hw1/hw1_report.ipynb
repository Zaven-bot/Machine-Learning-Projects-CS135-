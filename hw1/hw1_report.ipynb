{
 "cells": [
  {
   "cell_type": "markdown",
   "metadata": {},
   "source": [
    "# HW1 : Regression, Cross-Validation, and  Regularization"
   ]
  },
  {
   "cell_type": "code",
   "execution_count": 1,
   "metadata": {},
   "outputs": [],
   "source": [
    "import os\n",
    "import numpy as np\n",
    "import pandas as pd\n",
    " \n",
    "import sklearn.preprocessing\n",
    "from sklearn.preprocessing import PolynomialFeatures\n",
    "import sklearn.pipeline\n",
    "import sklearn.linear_model\n",
    "from sklearn.linear_model import LinearRegression"
   ]
  },
  {
   "cell_type": "code",
   "execution_count": 2,
   "metadata": {},
   "outputs": [],
   "source": [
    "from matplotlib import pyplot as plt\n",
    "\n",
    "import seaborn as sns\n",
    "sns.set('notebook', font_scale=1.25, style='whitegrid')"
   ]
  },
  {
   "cell_type": "markdown",
   "metadata": {},
   "source": [
    "### Configuration\n",
    "\n",
    "We assume your current directory contains folder 'data_auto'\n",
    "\n",
    "To make this happen, before you run the notebook, be sure you have\n",
    "* updated your local copy of the cs135-23f-assignments repo \n",
    "* cd into the hw1 dir"
   ]
  },
  {
   "cell_type": "code",
   "execution_count": 3,
   "metadata": {},
   "outputs": [],
   "source": [
    "SEED = 12345 \n",
    "\n",
    "DATA_DIR = 'data_auto'"
   ]
  },
  {
   "cell_type": "code",
   "execution_count": 4,
   "metadata": {},
   "outputs": [],
   "source": [
    "# If running in cloud on Google colab, this code will acquire necessary data files\n",
    "if os.getenv(\"COLAB_RELEASE_TAG\") and not os.path.exists(DATA_DIR):\n",
    "    !git clone https://github.com/tufts-ml-courses/cs135-23f-assignments.git\n",
    "    os.chdir(os.path.join('cs135-23f-assignments', 'hw1'))\n",
    "if not os.path.exists(DATA_DIR):\n",
    "    raise ValueError(\"Need to run this script within a valid checkout of the cs135 repo\")"
   ]
  },
  {
   "cell_type": "markdown",
   "metadata": {},
   "source": [
    "### Methods for loading dataset"
   ]
  },
  {
   "cell_type": "code",
   "execution_count": 5,
   "metadata": {},
   "outputs": [],
   "source": [
    "def load_2d_arr_from_csv(fname, include_header=False):\n",
    "    x = np.loadtxt(os.path.join(DATA_DIR, fname), delimiter=',', skiprows=1)\n",
    "    assert x.ndim == 2\n",
    "    if include_header:\n",
    "        header_cols = np.loadtxt(os.path.join(DATA_DIR, fname), delimiter=',', dtype=str)[0].tolist()\n",
    "        return x, header_cols\n",
    "    else:\n",
    "        return x\n",
    "    \n",
    "def load_1d_arr_from_csv(fname):\n",
    "    x = np.loadtxt(os.path.join(DATA_DIR, fname), delimiter=',', skiprows=1)\n",
    "    if x.ndim == 1:\n",
    "        return x\n",
    "    else:\n",
    "        raise ValueError(\"Not 1d\")"
   ]
  },
  {
   "cell_type": "markdown",
   "metadata": {},
   "source": [
    "# Load the dataset\n",
    "\n",
    "Predefined 'x' and 'y' arrays for train/valid/test"
   ]
  },
  {
   "cell_type": "code",
   "execution_count": 6,
   "metadata": {},
   "outputs": [],
   "source": [
    "x_tr_MF, xcolnames_F = load_2d_arr_from_csv('x_train.csv', include_header=True)\n",
    "x_va_NF = load_2d_arr_from_csv('x_valid.csv')\n",
    "x_te_PF = load_2d_arr_from_csv('x_test.csv')"
   ]
  },
  {
   "cell_type": "code",
   "execution_count": 7,
   "metadata": {},
   "outputs": [
    {
     "name": "stdout",
     "output_type": "stream",
     "text": [
      "['horsepower', 'weight', 'cylinders', 'displacement']\n"
     ]
    }
   ],
   "source": [
    "print(xcolnames_F)"
   ]
  },
  {
   "cell_type": "code",
   "execution_count": 8,
   "metadata": {},
   "outputs": [
    {
     "name": "stdout",
     "output_type": "stream",
     "text": [
      "[[ 115. 2595.    6.  173.]\n",
      " [ 180. 4380.    8.  350.]\n",
      " [ 150. 4457.    8.  318.]\n",
      " [ 105. 3897.    6.  250.]\n",
      " [ 193. 4732.    8.  304.]]\n"
     ]
    }
   ],
   "source": [
    "print(x_tr_MF[:5])"
   ]
  },
  {
   "cell_type": "code",
   "execution_count": 9,
   "metadata": {},
   "outputs": [],
   "source": [
    "y_tr_M = load_1d_arr_from_csv('y_train.csv')\n",
    "y_va_N = load_1d_arr_from_csv('y_valid.csv')\n",
    "y_te_P = load_1d_arr_from_csv('y_test.csv')"
   ]
  },
  {
   "cell_type": "code",
   "execution_count": 10,
   "metadata": {},
   "outputs": [
    {
     "name": "stdout",
     "output_type": "stream",
     "text": [
      "[[28.8]\n",
      " [16.5]\n",
      " [14. ]\n",
      " [16. ]\n",
      " [ 9. ]]\n"
     ]
    }
   ],
   "source": [
    "print(y_tr_M[:5,np.newaxis])"
   ]
  },
  {
   "cell_type": "code",
   "execution_count": 11,
   "metadata": {},
   "outputs": [
    {
     "data": {
      "text/plain": [
       "46.6"
      ]
     },
     "execution_count": 11,
     "metadata": {},
     "output_type": "execute_result"
    }
   ],
   "source": [
    "y_tr_M.max()"
   ]
  },
  {
   "cell_type": "code",
   "execution_count": 12,
   "metadata": {},
   "outputs": [],
   "source": [
    "Y_MAX = 60.0"
   ]
  },
  {
   "cell_type": "markdown",
   "metadata": {},
   "source": [
    "## Load completed code"
   ]
  },
  {
   "cell_type": "code",
   "execution_count": 13,
   "metadata": {},
   "outputs": [],
   "source": [
    "from performance_metrics import calc_root_mean_squared_error\n",
    "from cross_validation import train_models_and_calc_scores_for_n_fold_cv"
   ]
  },
  {
   "cell_type": "markdown",
   "metadata": {},
   "source": [
    "## Define useful plotting functions"
   ]
  },
  {
   "cell_type": "code",
   "execution_count": 14,
   "metadata": {},
   "outputs": [],
   "source": [
    "def plot_train_and_valid_error_vs_hyper(\n",
    "        hyper_list, err_tr_list=None, err_va_list=None,\n",
    "        ymax=40,\n",
    "        leg_loc='upper right',\n",
    "        xlabel='polynomial degree',\n",
    "        ylabel='RMSE'):\n",
    "    if err_va_list is not None:\n",
    "        plt.plot(hyper_list, err_va_list, 'rs-', label='valid');\n",
    "    if err_tr_list is not None:\n",
    "        plt.plot(hyper_list, err_tr_list, 'bd:', label='train');\n",
    "    plt.ylim([0, ymax]);\n",
    "    plt.legend(loc=leg_loc);\n",
    "    plt.xlabel(xlabel);\n",
    "    plt.ylabel(ylabel);"
   ]
  },
  {
   "cell_type": "markdown",
   "metadata": {},
   "source": [
    "## Method to sanitize predictions\n",
    "\n",
    "We are predicting MPG, which should \n",
    "* (1) always be positive, and\n",
    "* (2) will probably never exceed 120% of the largest value we see in train data"
   ]
  },
  {
   "cell_type": "code",
   "execution_count": 15,
   "metadata": {},
   "outputs": [],
   "source": [
    "def sanitize(yhat_N):\n",
    "    yhat_N = np.maximum(yhat_N, 0)\n",
    "    yhat_N = np.minimum(yhat_N, Y_MAX)\n",
    "    return yhat_N"
   ]
  },
  {
   "cell_type": "code",
   "execution_count": 16,
   "metadata": {},
   "outputs": [],
   "source": [
    "bad_yhat_N = np.asarray([-10, -1, 0, 1, 5, 10, 50, 55, 60, 65])"
   ]
  },
  {
   "cell_type": "code",
   "execution_count": 17,
   "metadata": {},
   "outputs": [
    {
     "data": {
      "text/plain": [
       "array([-10,  -1,   0,   1,   5,  10,  50,  55,  60,  65])"
      ]
     },
     "execution_count": 17,
     "metadata": {},
     "output_type": "execute_result"
    }
   ],
   "source": [
    "bad_yhat_N"
   ]
  },
  {
   "cell_type": "code",
   "execution_count": 18,
   "metadata": {},
   "outputs": [
    {
     "data": {
      "text/plain": [
       "array([ 0.,  0.,  0.,  1.,  5., 10., 50., 55., 60., 60.])"
      ]
     },
     "execution_count": 18,
     "metadata": {},
     "output_type": "execute_result"
    }
   ],
   "source": [
    "sanitize(bad_yhat_N)"
   ]
  },
  {
   "cell_type": "markdown",
   "metadata": {},
   "source": [
    "## Methods for building pipelines"
   ]
  },
  {
   "cell_type": "code",
   "execution_count": 19,
   "metadata": {},
   "outputs": [],
   "source": [
    "def make_poly_linear_regr_pipeline(degree=1):\n",
    "    pipeline = sklearn.pipeline.Pipeline(\n",
    "        steps=[\n",
    "         ('rescaler', sklearn.preprocessing.MinMaxScaler()),\n",
    "         ('poly_transformer', sklearn.preprocessing.PolynomialFeatures(degree=degree, include_bias=False)),\n",
    "         ('linear_regr', sklearn.linear_model.LinearRegression()),\n",
    "        ])\n",
    "    \n",
    "    # Return the constructed pipeline\n",
    "    # We can treat it as if it has a 'regression' API\n",
    "    # e.g. a fit and a predict method\n",
    "    return pipeline"
   ]
  },
  {
   "cell_type": "code",
   "execution_count": 20,
   "metadata": {},
   "outputs": [],
   "source": [
    "def make_poly_ridge_regr_pipeline(degree=1, alpha=1.0):\n",
    "    pipeline = sklearn.pipeline.Pipeline(\n",
    "        steps=[\n",
    "         ('rescaler', sklearn.preprocessing.MinMaxScaler()),\n",
    "         ('poly_transformer', sklearn.preprocessing.PolynomialFeatures(degree=degree, include_bias=False)),\n",
    "         ('linear_regr', sklearn.linear_model.Ridge(alpha=alpha)),\n",
    "        ])\n",
    "\n",
    "    # Return the constructed pipeline\n",
    "    # We can treat it as if it has a 'regression' API\n",
    "    # e.g. a fit and a predict method\n",
    "    return pipeline"
   ]
  },
  {
   "cell_type": "markdown",
   "metadata": {},
   "source": [
    "## Method to inspect learned weights"
   ]
  },
  {
   "cell_type": "code",
   "execution_count": 21,
   "metadata": {},
   "outputs": [],
   "source": [
    "def pretty_print_learned_weights(pipeline, xcolnames_F):\n",
    "    ''' Print the learned parameters of given pipeline\n",
    "    '''\n",
    "    my_lin_regr = pipeline.named_steps['linear_regr']\n",
    "\n",
    "    feat_names = pipeline.named_steps['poly_transformer'].get_feature_names_out()\n",
    "    coef_values = my_lin_regr.coef_\n",
    "\n",
    "    for feat, coef in zip(feat_names, coef_values):\n",
    "        print(\"% 7.2f : %s\" % (coef, feat))\n",
    "    \n",
    "    print(\"where \")\n",
    "    for ff, colname in enumerate(xcolnames_F):\n",
    "        print(\"x%d = %s\" % (ff, colname))"
   ]
  },
  {
   "cell_type": "markdown",
   "metadata": {},
   "source": [
    "# Problem 1: Polynomial Degree Selection on Fixed Validation Set\n",
    "\n",
    "**Implementation Step 1A:**\n",
    "\n",
    "Fit a linear regression model to a polynomial feature transformation of the provided training set at each of these possible degrees: [1, 2, 3, 4, 5, 6, 7]. For each hyperparameter setting, record the training set error and the validation set error."
   ]
  },
  {
   "cell_type": "code",
   "execution_count": 22,
   "metadata": {
    "scrolled": true
   },
   "outputs": [],
   "source": [
    "degree_list = [1, 2, 3, 4, 5, 6, 7]\n",
    "fv_err_tr_list = []\n",
    "fv_err_va_list = []\n",
    "\n",
    "fv_pipeline_list = []\n",
    "for degree in degree_list:\n",
    "\n",
    "    # Created a pipeline using features with current degree value\n",
    "    pipeline = make_poly_linear_regr_pipeline(degree)\n",
    "    \n",
    "    # Fit model to training data\n",
    "    pipeline.fit(x_tr_MF, y_tr_M)\n",
    "    \n",
    "    # Train/Valid prediction\n",
    "    yhat_tr_M = pipeline.predict(x_tr_MF)\n",
    "    yhat_va_N = pipeline.predict(x_va_NF) \n",
    "    \n",
    "    # Sanitize\n",
    "    yhat_tr_M = sanitize(yhat_tr_M)\n",
    "    yhat_va_N = sanitize(yhat_va_N)\n",
    "    \n",
    "    # Train/Valid RMSE calc\n",
    "    err_tr = calc_root_mean_squared_error(y_tr_M, yhat_tr_M)\n",
    "    err_va = calc_root_mean_squared_error(y_va_N, yhat_va_N)\n",
    "    \n",
    "    fv_err_tr_list.append(err_tr)\n",
    "    fv_err_va_list.append(err_va)\n",
    "    \n",
    "    # Store current pipeline for future use\n",
    "    fv_pipeline_list.append(pipeline)"
   ]
  },
  {
   "cell_type": "markdown",
   "metadata": {},
   "source": [
    "### Figure 1: Error vs degree"
   ]
  },
  {
   "cell_type": "code",
   "execution_count": 23,
   "metadata": {},
   "outputs": [
    {
     "data": {
      "image/png": "[encoded data removed]",
      "text/plain": [
       "<Figure size 640x480 with 1 Axes>"
      ]
     },
     "metadata": {},
     "output_type": "display_data"
    }
   ],
   "source": [
    "plot_train_and_valid_error_vs_hyper(\n",
    "    degree_list, fv_err_tr_list, fv_err_va_list, leg_loc='upper left');\n",
    "plt.title('RMSE vs. Degree');"
   ]
  },
  {
   "cell_type": "markdown",
   "metadata": {},
   "source": [
    "### Implementation 1B: Score on the test set using the chosen model\n",
    "\n",
    "Select the model hyperparameters that *minimize* your fixed validation set error. Using your already-trained LinearRegression model with these best hyperparameters, compute error on the *test* set. Save this test set error value for later."
   ]
  },
  {
   "cell_type": "code",
   "execution_count": 26,
   "metadata": {},
   "outputs": [
    {
     "name": "stdout",
     "output_type": "stream",
     "text": [
      "Selected Parameters:\n",
      "2\n",
      "Fixed validation set estimate of heldout error:\n",
      "3.9740753307545327\n",
      "Error on the test-set:\n",
      "3.9915025464567604\n"
     ]
    }
   ],
   "source": [
    "best_degree_idx = fv_err_va_list.index(min(fv_err_va_list))\n",
    "print(\"Selected Parameters:\")\n",
    "print(degree_list[best_degree_idx])\n",
    "print(\"Fixed validation set estimate of heldout error:\")\n",
    "print(f\"{min(fv_err_va_list)}\")\n",
    "\n",
    "best_pipeline = fv_pipeline_list[best_degree_idx]\n",
    "yhat_te_P = best_pipeline.predict(x_te_PF)\n",
    "step1_score = calc_root_mean_squared_error(y_te_P, yhat_te_P)\n",
    "print(\"Error on the test-set:\")\n",
    "print(f\"{step1_score}\")"
   ]
  },
  {
   "cell_type": "code",
   "execution_count": 27,
   "metadata": {},
   "outputs": [
    {
     "name": "stdout",
     "output_type": "stream",
     "text": [
      "3.9915025464567604\n"
     ]
    }
   ],
   "source": [
    "# TODO store score on test set for later\n",
    "print(step1_score)"
   ]
  },
  {
   "cell_type": "markdown",
   "metadata": {},
   "source": [
    "### Short Answer 1a in Report\n",
    "\n",
    "Investigate why preprocessing is necessary"
   ]
  },
  {
   "cell_type": "code",
   "execution_count": 28,
   "metadata": {},
   "outputs": [],
   "source": [
    "# WRITE THIS IN YOUR REPORT, NOT IN THIS NOTEBOOK"
   ]
  },
  {
   "cell_type": "markdown",
   "metadata": {},
   "source": [
    "### Short Answer 1b in Report\n",
    "\n",
    "Consider the model with degree 1. \n",
    "Following the starter code, print out the values of **all** the learned weight parameters (aka coefficients)."
   ]
  },
  {
   "cell_type": "code",
   "execution_count": 29,
   "metadata": {},
   "outputs": [
    {
     "name": "stdout",
     "output_type": "stream",
     "text": [
      " -10.43 : x0\n",
      " -18.23 : x1\n",
      "  -1.15 : x2\n",
      "   0.58 : x3\n",
      "where \n",
      "x0 = horsepower\n",
      "x1 = weight\n",
      "x2 = cylinders\n",
      "x3 = displacement\n"
     ]
    }
   ],
   "source": [
    "# TODO call pretty_print_learned_weights on your pipeline with degree=1 from above\n",
    "# Hint: The names of the original F=4 features are already in your workspace\n",
    "\n",
    "degree1_pipeline = fv_pipeline_list[0]\n",
    "\n",
    "pretty_print_learned_weights(degree1_pipeline, xcolnames_F)"
   ]
  },
  {
   "cell_type": "markdown",
   "metadata": {},
   "source": [
    "### Short Answer 1c in Report\n",
    "\n",
    "Consider the models with degree 3 or 4. \n",
    "Inspect the learned weight parameters, including the number of parameters and their relative magnitudes.\n",
    "\n",
    "What do you notice about these values compared to the values with degree 1 or 2?\n",
    "How might what you notice be connected to the trends in training and validation set performance you observe in Figure 1?"
   ]
  },
  {
   "cell_type": "code",
   "execution_count": 37,
   "metadata": {},
   "outputs": [
    {
     "name": "stdout",
     "output_type": "stream",
     "text": [
      " 617.45 : x0\n",
      "-191.08 : x1\n",
      " 1774.24 : x2\n",
      "-1343.56 : x3\n",
      " 159.25 : x0^2\n",
      "-323.66 : x0 x1\n",
      "-5179.64 : x0 x2\n",
      " 198.45 : x0 x3\n",
      "  61.37 : x1^2\n",
      " 2573.25 : x1 x2\n",
      "-1596.95 : x1 x3\n",
      "-5943.40 : x2^2\n",
      " 7359.52 : x2 x3\n",
      " 2883.15 : x3^2\n",
      "-630.58 : x0^3\n",
      " 1377.51 : x0^2 x1\n",
      "-1600.47 : x0^2 x2\n",
      " 1529.25 : x0^2 x3\n",
      "-105.12 : x0 x1^2\n",
      "-7880.76 : x0 x1 x2\n",
      " 12085.95 : x0 x1 x3\n",
      " 13051.50 : x0 x2^2\n",
      " 5626.91 : x0 x2 x3\n",
      "-14222.70 : x0 x3^2\n",
      " 611.22 : x1^3\n",
      "-1478.94 : x1^2 x2\n",
      "-359.76 : x1^2 x3\n",
      "-7343.55 : x1 x2^2\n",
      " 17674.97 : x1 x2 x3\n",
      "-13648.53 : x1 x3^2\n",
      " 4525.05 : x2^3\n",
      "  47.94 : x2^2 x3\n",
      "-34068.88 : x2 x3^2\n",
      " 20804.11 : x3^3\n",
      "-345.94 : x0^4\n",
      " 1047.47 : x0^3 x1\n",
      " 133.89 : x0^3 x2\n",
      " 702.32 : x0^3 x3\n",
      " 1031.68 : x0^2 x1^2\n",
      " 3678.25 : x0^2 x1 x2\n",
      "-11633.91 : x0^2 x1 x3\n",
      "-1147.94 : x0^2 x2^2\n",
      " 1506.00 : x0^2 x2 x3\n",
      " 3042.21 : x0^2 x3^2\n",
      "-5637.55 : x0 x1^3\n",
      " 3990.55 : x0 x1^2 x2\n",
      " 7624.03 : x0 x1^2 x3\n",
      " 12467.48 : x0 x1 x2^2\n",
      "-36650.46 : x0 x1 x2 x3\n",
      " 19120.42 : x0 x1 x3^2\n",
      "-6959.36 : x0 x2^3\n",
      "-12414.29 : x0 x2^2 x3\n",
      " 31670.59 : x0 x2 x3^2\n",
      "-15448.88 : x0 x3^3\n",
      "-524.40 : x1^4\n",
      "-3360.09 : x1^3 x2\n",
      " 9784.64 : x1^3 x3\n",
      " 4470.47 : x1^2 x2^2\n",
      "-2283.03 : x1^2 x2 x3\n",
      "-14453.48 : x1^2 x3^2\n",
      " 6639.92 : x1 x2^3\n",
      "-33016.35 : x1 x2^2 x3\n",
      " 48066.73 : x1 x2 x3^2\n",
      "-11747.60 : x1 x3^3\n",
      " 602.53 : x2^4\n",
      "-12796.21 : x2^3 x3\n",
      " 55023.35 : x2^2 x3^2\n",
      "-56683.53 : x2 x3^3\n",
      " 17563.69 : x3^4\n",
      "where \n",
      "x0 = horsepower\n",
      "x1 = weight\n",
      "x2 = cylinders\n",
      "x3 = displacement\n"
     ]
    }
   ],
   "source": [
    "degree4_pipeline = fv_pipeline_list[3]\n",
    "\n",
    "pretty_print_learned_weights(degree4_pipeline, xcolnames_F)"
   ]
  },
  {
   "cell_type": "markdown",
   "metadata": {},
   "source": [
    "# Problem 2: Alpha Selection on Fixed Val Set"
   ]
  },
  {
   "cell_type": "code",
   "execution_count": 31,
   "metadata": {},
   "outputs": [
    {
     "name": "stdout",
     "output_type": "stream",
     "text": [
      "[1.e-10 1.e-08 1.e-06 1.e-04 1.e-02 1.e+00 1.e+02 1.e+04 1.e+06]\n"
     ]
    }
   ],
   "source": [
    "my_degree = 4\n",
    "alpha_list = np.asarray([1.e-10, 1.e-08, 1.e-06, 1.e-04, 1.e-02, 1.e+00, 1.e+02, 1.e+04, 1.e+06])\n",
    "print(alpha_list)"
   ]
  },
  {
   "cell_type": "code",
   "execution_count": 32,
   "metadata": {},
   "outputs": [],
   "source": [
    "fv2_err_tr_list = []\n",
    "fv2_err_va_list = []\n",
    "fv2_pipeline_list = []\n",
    "\n",
    "for alpha in alpha_list:\n",
    "\n",
    "    # Created a pipeline using features with current degree value\n",
    "    pipeline = make_poly_ridge_regr_pipeline(my_degree, alpha)\n",
    "        \n",
    "    # Fit model to training data\n",
    "    pipeline.fit(x_tr_MF, y_tr_M)\n",
    "    \n",
    "    # Train/Valid prediction\n",
    "    yhat_tr_M = pipeline.predict(x_tr_MF)\n",
    "    yhat_va_N = pipeline.predict(x_va_NF) \n",
    "    \n",
    "    # Sanitize\n",
    "    yhat_tr_M = sanitize(yhat_tr_M)\n",
    "    yhat_va_N = sanitize(yhat_va_N)\n",
    "    \n",
    "    assert np.all(yhat_va_N >= 0.0)\n",
    "    assert np.all(yhat_va_N <= Y_MAX)\n",
    "    \n",
    "    # Train/Valid RMSE calc\n",
    "    err_tr = calc_root_mean_squared_error(y_tr_M, yhat_tr_M)\n",
    "    err_va = calc_root_mean_squared_error(y_va_N, yhat_va_N)\n",
    "    \n",
    "    fv2_err_tr_list.append(err_tr)\n",
    "    fv2_err_va_list.append(err_va)\n",
    "    \n",
    "    # Store current pipeline for future use\n",
    "    fv_pipeline_list.append(pipeline)"
   ]
  },
  {
   "cell_type": "markdown",
   "metadata": {},
   "source": [
    "### Figure 2 in report\n",
    "\n",
    "Make a line plot of mean-squared error on y-axis vs. alpha on x-axis."
   ]
  },
  {
   "cell_type": "code",
   "execution_count": 33,
   "metadata": {
    "scrolled": true
   },
   "outputs": [
    {
     "data": {
      "image/png": "[encoded data removed]",
      "text/plain": [
       "<Figure size 640x480 with 1 Axes>"
      ]
     },
     "metadata": {},
     "output_type": "display_data"
    }
   ],
   "source": [
    "plot_train_and_valid_error_vs_hyper(\n",
    "    alpha_list, fv2_err_tr_list, fv2_err_va_list,\n",
    "    xlabel='alpha (L2 penalty)', leg_loc='upper left');\n",
    "plt.gca().set_ylim([0, 10]);\n",
    "plt.gca().set_xscale('log');\n",
    "plt.title('Error vs. Alpha');"
   ]
  },
  {
   "cell_type": "markdown",
   "metadata": {},
   "source": [
    "### Implementation Step 2B\n",
    "\n",
    "Select the model hyperparameters that *minimize* your fixed validation set error. Using your already-trained model with these best hyperparameters, compute error on the *test* set. \n"
   ]
  },
  {
   "cell_type": "code",
   "execution_count": 34,
   "metadata": {},
   "outputs": [
    {
     "name": "stdout",
     "output_type": "stream",
     "text": [
      "Selected Parameters:\n",
      "0.01\n",
      "Fixed validation set estimate of heldout error:\n",
      "3.931387833481243\n",
      "Error on the test-set:\n",
      "3.781110632553092\n"
     ]
    }
   ],
   "source": [
    "best_alpha_idx = fv2_err_va_list.index(min(fv2_err_va_list))\n",
    "best_alpha = alpha_list[best_alpha_idx]\n",
    "best_va_error = fv2_err_va_list[best_alpha_idx]\n",
    "\n",
    "# Train the model with the best alpha on the entire training set (including validation)\n",
    "best_pipeline = make_poly_ridge_regr_pipeline(my_degree, best_alpha)\n",
    "best_pipeline.fit(np.concatenate((x_tr_MF, x_va_NF)), np.concatenate((y_tr_M, y_va_N)))\n",
    "\n",
    "# Predict on the test set\n",
    "yhat_test_K = best_pipeline.predict(x_te_PF)\n",
    "step2_score = calc_root_mean_squared_error(y_te_P, yhat_test_K)\n",
    "\n",
    "print(\"Selected Parameters:\")\n",
    "print(f\"{best_alpha}\")\n",
    "print(\"Fixed validation set estimate of heldout error:\")\n",
    "print(f\"{best_va_error}\")\n",
    "print(\"Error on the test-set:\")\n",
    "print(f\"{step2_score}\")"
   ]
  },
  {
   "cell_type": "code",
   "execution_count": 35,
   "metadata": {},
   "outputs": [
    {
     "name": "stdout",
     "output_type": "stream",
     "text": [
      "3.781110632553092\n"
     ]
    }
   ],
   "source": [
    "print(step2_score)"
   ]
  },
  {
   "cell_type": "markdown",
   "metadata": {},
   "source": [
    "### Short Answer 2a in Report\n",
    "\n",
    "Inspect the learned weight parameters of your chosen degree-4 model.\n",
    "What do you notice about the relative magnitudes compared to 1c above?"
   ]
  },
  {
   "cell_type": "code",
   "execution_count": 36,
   "metadata": {},
   "outputs": [
    {
     "name": "stdout",
     "output_type": "stream",
     "text": [
      " -40.38 : x0\n",
      "  -3.09 : x1\n",
      "  10.89 : x2\n",
      " -14.34 : x3\n",
      "   1.57 : x0^2\n",
      " -14.88 : x0 x1\n",
      "  38.14 : x0 x2\n",
      "  32.43 : x0 x3\n",
      " -10.25 : x1^2\n",
      "   2.98 : x1 x2\n",
      "   6.86 : x1 x3\n",
      " -20.01 : x2^2\n",
      " -35.14 : x2 x3\n",
      "  -1.24 : x3^2\n",
      "  10.70 : x0^3\n",
      "   0.47 : x0^2 x1\n",
      "  12.45 : x0^2 x2\n",
      "  11.28 : x0^2 x3\n",
      "   0.81 : x0 x1^2\n",
      "   6.83 : x0 x1 x2\n",
      "  13.33 : x0 x1 x3\n",
      "   4.95 : x0 x2^2\n",
      "  -2.90 : x0 x2 x3\n",
      "   0.48 : x0 x3^2\n",
      "  -2.92 : x1^3\n",
      "  -2.67 : x1^2 x2\n",
      "   3.39 : x1^2 x3\n",
      "   1.39 : x1 x2^2\n",
      "  -3.14 : x1 x2 x3\n",
      "   2.26 : x1 x3^2\n",
      "  -4.63 : x2^3\n",
      "  -8.36 : x2^2 x3\n",
      "   0.70 : x2 x3^2\n",
      "   6.60 : x3^3\n",
      "   6.78 : x0^4\n",
      "  -3.51 : x0^3 x1\n",
      "  -2.09 : x0^3 x2\n",
      "   3.89 : x0^3 x3\n",
      "  -0.90 : x0^2 x1^2\n",
      "  -5.09 : x0^2 x1 x2\n",
      "   1.76 : x0^2 x1 x3\n",
      " -14.74 : x0^2 x2^2\n",
      "  -9.32 : x0^2 x2 x3\n",
      "  -5.79 : x0^2 x3^2\n",
      "   4.25 : x0 x1^3\n",
      "   1.42 : x0 x1^2 x2\n",
      "   6.84 : x0 x1^2 x3\n",
      "  -6.51 : x0 x1 x2^2\n",
      "  -1.89 : x0 x1 x2 x3\n",
      "  -1.65 : x0 x1 x3^2\n",
      " -24.91 : x0 x2^3\n",
      " -17.88 : x0 x2^2 x3\n",
      " -12.96 : x0 x2 x3^2\n",
      " -12.73 : x0 x3^3\n",
      "  -1.59 : x1^4\n",
      "  -3.46 : x1^3 x2\n",
      "  -1.01 : x1^3 x3\n",
      "  -0.50 : x1^2 x2^2\n",
      "  -0.30 : x1^2 x2 x3\n",
      "  -3.04 : x1^2 x3^2\n",
      "   8.58 : x1 x2^3\n",
      "   7.23 : x1 x2^2 x3\n",
      "   3.95 : x1 x2 x3^2\n",
      "  -3.16 : x1 x3^3\n",
      "  15.89 : x2^4\n",
      "  17.14 : x2^3 x3\n",
      "  16.49 : x2^2 x3^2\n",
      "  10.32 : x2 x3^3\n",
      "   0.03 : x3^4\n",
      "where \n",
      "x0 = horsepower\n",
      "x1 = weight\n",
      "x2 = cylinders\n",
      "x3 = displacement\n"
     ]
    }
   ],
   "source": [
    "pretty_print_learned_weights(best_pipeline, xcolnames_F)"
   ]
  },
  {
   "cell_type": "markdown",
   "metadata": {},
   "source": [
    "# Data preprocessing for Problem 3"
   ]
  },
  {
   "cell_type": "markdown",
   "metadata": {},
   "source": [
    "For this problem, you'll again use the provided training set and validation sets. However, you'll *merge* these into a large \"development\" set that contains 292 examples total."
   ]
  },
  {
   "cell_type": "code",
   "execution_count": 310,
   "metadata": {},
   "outputs": [
    {
     "name": "stdout",
     "output_type": "stream",
     "text": [
      "(292, 4)\n"
     ]
    }
   ],
   "source": [
    "x_trva_LF = np.vstack([x_tr_MF, x_va_NF])\n",
    "y_trva_L = np.hstack([y_tr_M, y_va_N])\n",
    "\n",
    "print(x_trva_LF.shape)"
   ]
  },
  {
   "cell_type": "markdown",
   "metadata": {},
   "source": [
    "# Problem 3: Cross Validation for Polynomial Feature Regression"
   ]
  },
  {
   "cell_type": "markdown",
   "metadata": {},
   "source": [
    "### Implementation step 3A\n",
    "\n",
    "For each possible `alpha` value as well as each possible polynomial degree, train and evaluate a `Ridge` regression model across the entire train+validation set using 10-fold cross validation. Use the CV methods you implemented in `cross_validation.py`. For each possible hyperparameter (alpha value and degree value), your 10-fold CV procedure will give you an estimate of the training error and heldout validation error (averaged across all folds). \n"
   ]
  },
  {
   "cell_type": "code",
   "execution_count": 40,
   "metadata": {},
   "outputs": [],
   "source": [
    "K = 10 # num folds of CV\n",
    "degree_list = [1, 2, 3, 4, 5, 6, 7]\n",
    "alpha_list = np.logspace(-10, 6, 17)\n",
    "\n",
    "ridge_param_list = []\n",
    "for alpha in alpha_list:\n",
    "    for degree in degree_list:\n",
    "        ridge_param_list.append(dict(degree=degree, alpha=alpha))\n",
    "        \n",
    "cv_train_err_list = []\n",
    "cv_valid_err_list = []\n",
    "for param in ridge_param_list:\n",
    "    \n",
    "    # Make pipeline\n",
    "    param_degree = param['degree']\n",
    "    param_alpha = param['alpha']\n",
    "    pipeline = make_poly_ridge_regr_pipeline(param_degree, param_alpha)\n",
    "    \n",
    "    # Train a separate model for each fold and return train and valid errors\n",
    "    tr_error_K, valid_error_K = train_models_and_calc_scores_for_n_fold_cv(pipeline, x_tr_MF, y_tr_M, K, SEED)\n",
    "    \n",
    "    # Computer average error\n",
    "    err_tr = np.mean(tr_error_K)\n",
    "    err_va = np.mean(valid_error_K)\n",
    "    \n",
    "    cv_train_err_list.append(err_tr)\n",
    "    cv_valid_err_list.append(err_va)"
   ]
  },
  {
   "cell_type": "markdown",
   "metadata": {},
   "source": [
    "### Implementation step 3B\n",
    "\n",
    "Select the model hyperparameters that *minimize* your estimated cross-validation error. Using these best hyperparameters, retrain the model using the full development set (concatenating the predefined training and validation sets). Then compute that (retrained) model's error on the test set.\n",
    "\n",
    "Save this test set error value for later."
   ]
  },
  {
   "cell_type": "code",
   "execution_count": 44,
   "metadata": {},
   "outputs": [],
   "source": [
    "# Get best hyperparameters\n",
    "best_param_idx = cv_valid_err_list.index(min(cv_valid_err_list))\n",
    "best_hyper_param = ridge_param_list[best_param_idx]\n",
    "# From best hyperparameter, derive best degree, alpha, and pipeline\n",
    "best_degree = best_hyper_param['degree']\n",
    "best_alpha = best_hyper_param['alpha']\n",
    "best_pipeline = make_poly_ridge_regr_pipeline(best_degree, best_alpha)\n",
    "# Retrain model using full set (training + validation), derived from above equations\n",
    "best_pipeline.fit(np.concatenate((x_tr_MF, x_va_NF)), np.concatenate((y_tr_M, y_va_N)))\n",
    "# Calculate test set error with new model\n",
    "yhat_te_N = best_pipeline.predict(x_te_PF)\n",
    "yhat_te_N = sanitize(yhat_te_N)\n",
    "final_test_error = calc_root_mean_squared_error(y_te_P, yhat_te_N)\n"
   ]
  },
  {
   "cell_type": "code",
   "execution_count": 47,
   "metadata": {
    "scrolled": true
   },
   "outputs": [
    {
     "name": "stdout",
     "output_type": "stream",
     "text": [
      "Selected Parameters:\n",
      "Best Degree: 3 ... Best Alpha: 0.1\n",
      "10-fold CV estimate of heldout error:\n",
      "15.733286662795393\n",
      "Error on the test-set:\n",
      "3.8370471811071085\n",
      "23.48125\n"
     ]
    }
   ],
   "source": [
    "print(\"Selected Parameters:\")\n",
    "print(f\"Best Degree: {best_degree} ... Best Alpha: {best_alpha}\")\n",
    "print(\"10-fold CV estimate of heldout error:\")\n",
    "print(f\"{cv_valid_err_list[best_param_idx]}\")\n",
    "print(\"Error on the test-set:\")\n",
    "print(f\"{final_test_error}\")\n",
    "print(f\"{np.mean(y_tr_M)}\")"
   ]
  },
  {
   "cell_type": "markdown",
   "metadata": {},
   "source": [
    "## Table 3 : Comparing pipelines on test set"
   ]
  },
  {
   "cell_type": "code",
   "execution_count": 1,
   "metadata": {},
   "outputs": [
    {
     "name": "stdout",
     "output_type": "stream",
     "text": [
      "                Regressors  Performance\n",
      "0                 Baseline        7.131\n",
      "1  1B Poly+Linear pipeline        3.992\n",
      "2   2B Poly+Ridge pipeline        3.780\n",
      "3   3B Poly+Ridge pipeline        3.781\n"
     ]
    }
   ],
   "source": [
    "# TODO make a table in your report using the saved values from 1B, 2B and 3B above\n",
    "# 1B: 3.9915025464567604\n",
    "# 2B: 3.781110632553092\n",
    "# 3B: 3.8370471811071085\n",
    "\n",
    "import pandas as pd\n",
    "\n",
    "data = {'Regressors': ['Baseline', '1B Poly+Linear pipeline', '2B Poly+Ridge pipeline', '3B Poly+Ridge pipeline'],\n",
    "        'Performance': [7.131, 3.992, 3.78, 3.781]\n",
    "        }\n",
    "\n",
    "df = pd.DataFrame(data)\n",
    "\n",
    "print(df)\n",
    "\n"
   ]
  },
  {
   "cell_type": "code",
   "execution_count": null,
   "metadata": {},
   "outputs": [],
   "source": []
  }
 ],
 "metadata": {
  "kernelspec": {
   "display_name": "Python 3 (ipykernel)",
   "language": "python",
   "name": "python3"
  },
  "language_info": {
   "codemirror_mode": {
    "name": "ipython",
    "version": 3
   },
   "file_extension": ".py",
   "mimetype": "text/x-python",
   "name": "python",
   "nbconvert_exporter": "python",
   "pygments_lexer": "ipython3",
   "version": "3.10.13"
  }
 },
 "nbformat": 4,
 "nbformat_minor": 4
}
