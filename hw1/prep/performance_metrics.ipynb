{
 "cells": [
  {
   "cell_type": "code",
   "execution_count": 15,
   "id": "dcdb9ecb",
   "metadata": {},
   "outputs": [],
   "source": [
    "import numpy as np\n",
    "\n",
    "\n",
    "def calc_mean_squared_error(y_N, yhat_N):\n",
    "    ''' Compute the mean squared error given true and predicted values\n",
    "\n",
    "    Args\n",
    "    ----\n",
    "    y_N : 1D array, shape (N,)\n",
    "        Each entry represents 'ground truth' numeric response for an example\n",
    "    yhat_N : 1D array, shape (N,)\n",
    "        Each entry representes predicted numeric response for an example\n",
    "\n",
    "    Returns\n",
    "    -------\n",
    "    mse : scalar float\n",
    "        Mean squared error performance metric\n",
    "        .. math:\n",
    "            mse(y, \\hat{y}) = \\frac{1}{N} \\sum_{n=1}^N (y_n - \\hat{y}_n)^2\n",
    "\n",
    "    Examples\n",
    "    --------\n",
    "    >>> y_N = np.asarray([-2, 0, 2], dtype=np.float64)\n",
    "    >>> yhat_N = np.asarray([-4, 0, 2], dtype=np.float64)\n",
    "    >>> calc_mean_squared_error(y_N, yhat_N)\n",
    "    1.3333333333333333\n",
    "    '''\n",
    "    \n",
    "    entries = y_N.shape[0]\n",
    "\n",
    "    mse = (y_N - yhat_N) ** 2\n",
    "    true_mse = np.sum(mse)\n",
    "\n",
    "    true_mse = true_mse / entries\n",
    "\n",
    "    return true_mse\n",
    "\n",
    "\n",
    "def calc_mean_absolute_error(y_N, yhat_N):\n",
    "    ''' Compute the mean absolute error given true and predicted values\n",
    "\n",
    "    Args\n",
    "    ----\n",
    "    y_N : 1D array, shape (N,)\n",
    "        Each entry represents 'ground truth' numeric response for an example\n",
    "    yhat_N : 1D array, shape (N,)\n",
    "        Each entry representes predicted numeric response for an example\n",
    "\n",
    "    Returns\n",
    "    -------\n",
    "    mae : scalar float\n",
    "        Mean absolute error performance metric\n",
    "        .. math:\n",
    "            mae(y, \\hat{y}) = \\frac{1}{N} \\sum_{n=1}^N | y_n - \\hat{y}_n |\n",
    "\n",
    "    Examples\n",
    "    --------\n",
    "    >>> y_N = np.asarray([-2, 0, 2], dtype=np.float64)\n",
    "    >>> yhat_N = np.asarray([-4, 0, 2], dtype=np.float64)\n",
    "    >>> calc_mean_absolute_error(y_N, yhat_N)\n",
    "    0.6666666666666666\n",
    "    '''\n",
    "    \n",
    "    entries = y_N.shape[0]\n",
    "    mse = float(0)\n",
    "    for i in range(0, entries):\n",
    "        mse = mse + np.abs(y_N[i] - yhat_N[i])\n",
    "    mse = mse / entries\n",
    "\n",
    "    return mse"
   ]
  },
  {
   "cell_type": "code",
   "execution_count": 16,
   "id": "193dbbd6",
   "metadata": {},
   "outputs": [
    {
     "data": {
      "text/plain": [
       "1.3333333333333333"
      ]
     },
     "execution_count": 16,
     "metadata": {},
     "output_type": "execute_result"
    }
   ],
   "source": [
    "y_N = np.asarray([-2, 0, 2], dtype=np.float64)\n",
    "yhat_N = np.asarray([-4, 0, 2], dtype=np.float64)\n",
    "calc_mean_squared_error(y_N, yhat_N)"
   ]
  },
  {
   "cell_type": "code",
   "execution_count": 17,
   "id": "8d6d3fa3",
   "metadata": {},
   "outputs": [
    {
     "data": {
      "text/plain": [
       "0.6666666666666666"
      ]
     },
     "execution_count": 17,
     "metadata": {},
     "output_type": "execute_result"
    }
   ],
   "source": [
    "y_N = np.asarray([-2, 0, 2], dtype=np.float64)\n",
    "yhat_N = np.asarray([-4, 0, 2], dtype=np.float64)\n",
    "calc_mean_absolute_error(y_N, yhat_N)"
   ]
  },
  {
   "cell_type": "code",
   "execution_count": null,
   "id": "63971add",
   "metadata": {},
   "outputs": [],
   "source": []
  }
 ],
 "metadata": {
  "kernelspec": {
   "display_name": "Python 3 (ipykernel)",
   "language": "python",
   "name": "python3"
  },
  "language_info": {
   "codemirror_mode": {
    "name": "ipython",
    "version": 3
   },
   "file_extension": ".py",
   "mimetype": "text/x-python",
   "name": "python",
   "nbconvert_exporter": "python",
   "pygments_lexer": "ipython3",
   "version": "3.10.12"
  }
 },
 "nbformat": 4,
 "nbformat_minor": 5
}
