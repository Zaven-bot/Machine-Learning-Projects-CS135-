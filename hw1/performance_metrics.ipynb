{
 "cells": [
  {
   "cell_type": "code",
   "execution_count": null,
   "id": "2e2bf331",
   "metadata": {},
   "outputs": [],
   "source": [
    "'''\n",
    "Test Cases\n",
    "--------\n",
    ">>> y_N = 0.0\n",
    ">>> yhat_N = 4.123\n",
    ">>> calc_root_mean_squared_error(y_N, yhat_N)\n",
    "4.123\n",
    "\n",
    ">>> y_N = np.asarray([-2, 0, 2], dtype=np.float64)\n",
    ">>> yhat_N = np.asarray([-4, 0, 2], dtype=np.float64)\n",
    ">>> rmse = calc_root_mean_squared_error(y_N, yhat_N)\n",
    ">>> np.round(rmse, 6)\n",
    "1.154701\n",
    "'''\n",
    "\n",
    "import numpy as np\n",
    "\n",
    "\n",
    "def calc_root_mean_squared_error(y_N, yhat_N):\n",
    "    ''' Compute root mean squared error given true and predicted values\n",
    "\n",
    "    Args\n",
    "    ----\n",
    "    y_N : 1D array, shape (N,)\n",
    "        Each entry represents 'ground truth' numeric response for an example\n",
    "    yhat_N : 1D array, shape (N,)\n",
    "        Each entry representes predicted numeric response for an example\n",
    "\n",
    "    Returns\n",
    "    -------\n",
    "    rmse : scalar float\n",
    "        Root mean squared error performance metric\n",
    "        .. math:\n",
    "            rmse(y,\\hat{y}) = \\sqrt{\\frac{1}{N} \\sum_{n=1}^N (y_n - \\hat{y}_n)^2}\n",
    "    '''\n",
    "    y_N = np.atleast_1d(y_N)\n",
    "    yhat_N = np.atleast_1d(yhat_N)\n",
    "    assert y_N.ndim == 1\n",
    "    assert y_N.shape == yhat_N.shape\n",
    "\n",
    "    entries = y_N.shape[0]\n",
    "    mse = (y_N - yhat_N) ** 2\n",
    "    true_mse = np.sum(mse)\n",
    "    true_mse = (true_mse / entries) ** 0.5\n",
    "\n",
    "    return true_mse\n",
    "\n"
   ]
  }
 ],
 "metadata": {
  "kernelspec": {
   "display_name": "Python 3 (ipykernel)",
   "language": "python",
   "name": "python3"
  },
  "language_info": {
   "codemirror_mode": {
    "name": "ipython",
    "version": 3
   },
   "file_extension": ".py",
   "mimetype": "text/x-python",
   "name": "python",
   "nbconvert_exporter": "python",
   "pygments_lexer": "ipython3",
   "version": "3.10.12"
  }
 },
 "nbformat": 4,
 "nbformat_minor": 5
}
