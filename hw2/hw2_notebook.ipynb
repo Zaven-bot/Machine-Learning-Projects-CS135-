{
 "cells": [
  {
   "cell_type": "markdown",
   "metadata": {},
   "source": [
    "# HW2 for CS 135 in Fall 2023\n",
    "\n",
    "Instructions:\n",
    "<https://www.cs.tufts.edu/cs/135/2023f/hw2.html>\n",
    "\n",
    "This notebook is specifically for the report related to Problem 1\n",
    "\n",
    "# Problem 1: Binary Classifier for Cancer-Risk Screening "
   ]
  },
  {
   "cell_type": "markdown",
   "metadata": {},
   "source": [
    "### Note: \n",
    "* You will need to finish **Code Task** for **Problem 1** before working on this notebook. \n",
    "* Your outputs, including tables and figures, don't need to be exactly the same as our sample outputs, but we do expect something as clear."
   ]
  },
  {
   "cell_type": "code",
   "execution_count": 1,
   "metadata": {},
   "outputs": [],
   "source": [
    "import os\n",
    "import numpy as np\n",
    "import pandas as pd\n",
    "\n",
    "import sklearn.linear_model\n",
    "import sklearn.metrics"
   ]
  },
  {
   "cell_type": "code",
   "execution_count": 2,
   "metadata": {},
   "outputs": [],
   "source": [
    "# import plotting libraries\n",
    "import matplotlib\n",
    "import matplotlib.pyplot as plt\n",
    "\n",
    "%matplotlib inline\n",
    "plt.style.use('seaborn-v0_8') # pretty matplotlib plots\n",
    "\n",
    "import seaborn as sns\n",
    "sns.set('notebook', style='whitegrid', font_scale=1.25)\n",
    "\n",
    "# autoload changes in other files, so you don't have to restart the Jupyter kernel each time you make a change to the imported code.\n",
    "%load_ext autoreload\n",
    "%autoreload 2"
   ]
  },
  {
   "cell_type": "markdown",
   "metadata": {},
   "source": [
    "# Import student-edited code \n",
    "\n",
    "Remember, you should have *completed* the Code Tasks for Problem 1 first."
   ]
  },
  {
   "cell_type": "code",
   "execution_count": 3,
   "metadata": {},
   "outputs": [],
   "source": [
    "if not os.path.exists('binary_metrics.py'):\n",
    "    raise ImportError(\"CANNOT FIND binary_metrics.py. Make sure you run this notebook in same directory as your .py files.\")"
   ]
  },
  {
   "cell_type": "code",
   "execution_count": 4,
   "metadata": {},
   "outputs": [],
   "source": [
    "from binary_metrics import (\n",
    "    calc_ACC, calc_TPR, calc_PPV)"
   ]
  },
  {
   "cell_type": "markdown",
   "metadata": {},
   "source": [
    "# Import helper code (will work as provided, no edits needed)"
   ]
  },
  {
   "cell_type": "code",
   "execution_count": 5,
   "metadata": {},
   "outputs": [],
   "source": [
    "import threshold_selection"
   ]
  },
  {
   "cell_type": "code",
   "execution_count": 6,
   "metadata": {},
   "outputs": [],
   "source": [
    "from confusion_matrix import calc_confusion_matrix_for_probas_and_threshold"
   ]
  },
  {
   "cell_type": "markdown",
   "metadata": {},
   "source": [
    "# Provided function for computing mean binary cross entropy\n",
    "\n",
    "Here, we provide a *completed* function you can use as is for Problem 1 report.\n",
    "\n",
    "Later in Problem 2, you'll write your own version of this function without using sklearn.\n",
    "\n",
    "Remember, we want the *base-2* cross entropy:\n",
    "\n",
    "$$\n",
    "BCE(y, p) = - y \\log_2 p - (1-y) \\log_2(1-p)\n",
    "$$"
   ]
  },
  {
   "cell_type": "code",
   "execution_count": 7,
   "metadata": {},
   "outputs": [],
   "source": [
    "def calc_mean_binary_cross_entropy_from_probas(ytrue_N, yproba1_N):\n",
    "    ''' Compute mean binary cross entropy\n",
    "    \n",
    "    Args\n",
    "    ----\n",
    "    ytrue_N : 1D array, size (n_examples,) = (N,)\n",
    "    yproba1_N : 1D array, size (n_examples,) = (N,)\n",
    "    \n",
    "    Returns\n",
    "    -------\n",
    "    mean_bce : float\n",
    "        mean binary cross entropy across all N examples\n",
    "    '''\n",
    "    return sklearn.metrics.log_loss(ytrue_N, yproba1_N, labels=[0,1]) / np.log(2.0)"
   ]
  },
  {
   "cell_type": "code",
   "execution_count": 8,
   "metadata": {},
   "outputs": [
    {
     "data": {
      "text/plain": [
       "6.643856189774724"
      ]
     },
     "execution_count": 8,
     "metadata": {},
     "output_type": "execute_result"
    }
   ],
   "source": [
    "# Check that BCE loss is high if true class is 1 but probability is low\n",
    "calc_mean_binary_cross_entropy_from_probas([1.], [0.01])"
   ]
  },
  {
   "cell_type": "code",
   "execution_count": 9,
   "metadata": {},
   "outputs": [
    {
     "data": {
      "text/plain": [
       "1.0"
      ]
     },
     "execution_count": 9,
     "metadata": {},
     "output_type": "execute_result"
    }
   ],
   "source": [
    "# Check that BCE loss is exactly 1 if true class is 1 but probability is 0.5\n",
    "calc_mean_binary_cross_entropy_from_probas([1.], [0.5])"
   ]
  },
  {
   "cell_type": "code",
   "execution_count": 10,
   "metadata": {},
   "outputs": [
    {
     "data": {
      "text/plain": [
       "0.01449956969511509"
      ]
     },
     "execution_count": 10,
     "metadata": {},
     "output_type": "execute_result"
    }
   ],
   "source": [
    "# Check that BCE loss is close to zero if true class is 1 but probability is 0.99\n",
    "calc_mean_binary_cross_entropy_from_probas([1.], [0.99])"
   ]
  },
  {
   "cell_type": "markdown",
   "metadata": {},
   "source": [
    "# Load the dataset for problem 1"
   ]
  },
  {
   "cell_type": "code",
   "execution_count": 11,
   "metadata": {},
   "outputs": [],
   "source": [
    "# Make sure you have downloaded data and your directory is correct\n",
    "DATA_DIR = os.path.join('data_cancer') "
   ]
  },
  {
   "cell_type": "code",
   "execution_count": 12,
   "metadata": {},
   "outputs": [
    {
     "name": "stdout",
     "output_type": "stream",
     "text": [
      "Loaded  train : shape (390, 3)\n",
      "Loaded  valid : shape (180, 3)\n",
      "Loaded   test : shape (180, 3)\n"
     ]
    }
   ],
   "source": [
    "# Load 3 feature version of x arrays\n",
    "x_tr_M3 = np.loadtxt(os.path.join(DATA_DIR, 'x_train.csv'), delimiter=',', skiprows=1)\n",
    "x_va_N3 = np.loadtxt(os.path.join(DATA_DIR, 'x_valid.csv'), delimiter=',', skiprows=1)\n",
    "x_te_N3 = np.loadtxt(os.path.join(DATA_DIR, 'x_test.csv'), delimiter=',', skiprows=1)\n",
    "\n",
    "for label, x in [('train', x_tr_M3), ('valid', x_va_N3), ('test', x_te_N3)]:\n",
    "    print(\"Loaded %6s : shape %s\" % (label, x.shape))"
   ]
  },
  {
   "cell_type": "code",
   "execution_count": 13,
   "metadata": {},
   "outputs": [],
   "source": [
    "N_shape = x_va_N3.shape\n",
    "M_shape = x_tr_M3.shape\n",
    "\n",
    "N = N_shape[0]\n",
    "M = M_shape[0]"
   ]
  },
  {
   "cell_type": "markdown",
   "metadata": {},
   "source": [
    "**TODO** : Load outcomes **y** arrays"
   ]
  },
  {
   "cell_type": "code",
   "execution_count": 14,
   "metadata": {},
   "outputs": [],
   "source": [
    "# Load outcomes y arrays\n",
    "# Hint: Follow the way we import x arrays.\n",
    "y_tr_M = np.loadtxt(os.path.join(DATA_DIR, 'y_train.csv'), delimiter=',', skiprows=1)\n",
    "y_va_N = np.loadtxt(os.path.join(DATA_DIR, 'y_valid.csv'), delimiter=',', skiprows=1)\n",
    "y_te_N = np.loadtxt(os.path.join(DATA_DIR, 'y_test.csv'), delimiter=',', skiprows=1)"
   ]
  },
  {
   "cell_type": "code",
   "execution_count": 15,
   "metadata": {},
   "outputs": [],
   "source": [
    "# Load 2 feature version of x arrays\n",
    "x_tr_M2 = x_tr_M3[:, :2].copy()\n",
    "x_va_N2 = x_va_N3[:, :2].copy()\n",
    "x_te_N2 = x_te_N3[:, :2].copy()"
   ]
  },
  {
   "cell_type": "markdown",
   "metadata": {},
   "source": [
    "# Problem 1:\n",
    "## Implementation Step 1A: Data Exploration"
   ]
  },
  {
   "cell_type": "markdown",
   "metadata": {},
   "source": [
    "### Table 1 \n",
    "\n",
    "Provide a table summarizing some basic properties of the provided training set, validation set, and test set:\n",
    "\n",
    "* Row 1 'total count': how many total examples are in each set?\n",
    "* Row 2 'positive label count': how many examples have a positive label (means cancer)?\n",
    "* Row 3 'fraction positive' : what fraction (between 0 and 1) of the examples have cancer?\n",
    "\n",
    "Your result should be 3 by 3 containing 'total count', 'positive label count' and 'fraction positive' of training, valid and test sets. An example of the output looks like this:\n",
    "\n",
    "|                               | train  |valid    |test|\n",
    "|:-|-:|-:|-:|\n",
    "|num. total examples            |567.000  |123.000  |123.000\n",
    "|num. positive examples         |56.000   |23.000   |23.000\n",
    "|fraction of positive examples  |0.123    |0.123    |0.123\n",
    "\n",
    "All results should **keep 3 digits**. We set a pandas display option to ensure that below."
   ]
  },
  {
   "cell_type": "markdown",
   "metadata": {},
   "source": [
    "**TODO**: make a pandas dataframe with the correct data properties"
   ]
  },
  {
   "cell_type": "code",
   "execution_count": 16,
   "metadata": {},
   "outputs": [],
   "source": [
    "table1_df = pd.DataFrame({'train': [M, np.sum(y_tr_M), np.sum(y_tr_M)/M],\n",
    "                          'valid': [N, np.sum(y_va_N), np.sum(y_va_N)/N], \n",
    "                          'test': [x_te_N3.shape[0], np.sum(y_te_N), np.sum(y_te_N)/x_te_N3.shape[0]]} ) \n",
    "table1_df.index = ['num. total examples', 'num. positive examples', 'fraction of positive examples']"
   ]
  },
  {
   "cell_type": "code",
   "execution_count": 17,
   "metadata": {},
   "outputs": [
    {
     "name": "stdout",
     "output_type": "stream",
     "text": [
      "                                 train    valid     test\n",
      "num. total examples            390.000  180.000  180.000\n",
      "num. positive examples          55.000   25.000   25.000\n",
      "fraction of positive examples    0.141    0.139    0.139\n"
     ]
    }
   ],
   "source": [
    "pd.set_option('display.precision', 3)\n",
    "print(table1_df)"
   ]
  },
  {
   "cell_type": "markdown",
   "metadata": {},
   "source": [
    "##  Implementation Step 1B: The predict-0-always baseline"
   ]
  },
  {
   "cell_type": "markdown",
   "metadata": {},
   "source": [
    "**TODO**: predict zero for all test data points"
   ]
  },
  {
   "cell_type": "code",
   "execution_count": 18,
   "metadata": {},
   "outputs": [
    {
     "name": "stdout",
     "output_type": "stream",
     "text": [
      "[0. 0. 0. 0. 0. 0. 0. 0. 0. 0. 0. 0. 0. 0. 0. 0. 0. 0. 0. 0. 0. 0. 0. 0.\n",
      " 0. 0. 0. 0. 0. 0. 0. 0. 0. 0. 0. 0. 0. 0. 0. 0. 0. 0. 0. 0. 0. 0. 0. 0.\n",
      " 0. 0. 0. 0. 0. 0. 0. 0. 0. 0. 0. 0. 0. 0. 0. 0. 0. 0. 0. 0. 0. 0. 0. 0.\n",
      " 0. 0. 0. 0. 0. 0. 0. 0. 0. 0. 0. 0. 0. 0. 0. 0. 0. 0. 0. 0. 0. 0. 0. 0.\n",
      " 0. 0. 0. 0. 0. 0. 0. 0. 0. 0. 0. 0. 0. 0. 0. 0. 0. 0. 0. 0. 0. 0. 0. 0.\n",
      " 0. 0. 0. 0. 0. 0. 0. 0. 0. 0. 0. 0. 0. 0. 0. 0. 0. 0. 0. 0. 0. 0. 0. 0.\n",
      " 0. 0. 0. 0. 0. 0. 0. 0. 0. 0. 0. 0. 0. 0. 0. 0. 0. 0. 0. 0. 0. 0. 0. 0.\n",
      " 0. 0. 0. 0. 0. 0. 0. 0. 0. 0. 0. 0.]\n"
     ]
    }
   ],
   "source": [
    "baseline_yhat_te_N = np.zeros(x_te_N3.shape[0])\n",
    "print(baseline_yhat_te_N)"
   ]
  },
  {
   "cell_type": "code",
   "execution_count": 19,
   "metadata": {},
   "outputs": [
    {
     "name": "stdout",
     "output_type": "stream",
     "text": [
      "[0. 0. 0. 0. 0. 0. 0. 0. 0. 0. 0. 0. 0. 1. 0. 1. 0. 0. 0. 0. 0. 0. 0. 0.\n",
      " 0. 0. 0. 0. 0. 1. 0. 0. 1. 0. 0. 0. 0. 0. 0. 0. 1. 0. 1. 0. 0. 0. 1. 0.\n",
      " 0. 0. 0. 0. 0. 1. 0. 1. 0. 0. 0. 0. 0. 0. 0. 0. 1. 0. 1. 0. 1. 0. 1. 0.\n",
      " 0. 0. 0. 0. 0. 0. 0. 0. 0. 0. 0. 1. 0. 0. 0. 0. 0. 0. 0. 0. 0. 0. 0. 0.\n",
      " 0. 0. 0. 0. 0. 0. 0. 0. 0. 0. 1. 0. 1. 0. 0. 0. 0. 0. 0. 0. 0. 0. 0. 0.\n",
      " 0. 1. 0. 0. 0. 0. 0. 0. 0. 0. 0. 1. 0. 0. 1. 0. 0. 0. 0. 0. 1. 0. 0. 0.\n",
      " 0. 1. 0. 0. 0. 0. 0. 0. 1. 0. 0. 0. 0. 0. 1. 0. 0. 0. 0. 0. 0. 0. 0. 0.\n",
      " 0. 0. 1. 1. 0. 0. 0. 0. 0. 0. 0. 0.]\n"
     ]
    }
   ],
   "source": [
    "print(y_te_N)"
   ]
  },
  {
   "cell_type": "code",
   "execution_count": 20,
   "metadata": {},
   "outputs": [
    {
     "name": "stdout",
     "output_type": "stream",
     "text": [
      "Predicted    0  1\n",
      "True             \n",
      "0          155  0\n",
      "1           25  0\n"
     ]
    }
   ],
   "source": [
    "print(calc_confusion_matrix_for_probas_and_threshold(y_te_N, baseline_yhat_te_N, 0.5))"
   ]
  },
  {
   "cell_type": "markdown",
   "metadata": {},
   "source": [
    "**TODO** Use the printed information from the previous code cell to calculate the accuracy of baseline. \n",
    "\n",
    "Keep 3 digits in your PDF report for short Answer 1a."
   ]
  },
  {
   "cell_type": "code",
   "execution_count": 21,
   "metadata": {},
   "outputs": [
    {
     "name": "stdout",
     "output_type": "stream",
     "text": [
      "Baseline has accuracy:  0.8611111111106328\n"
     ]
    }
   ],
   "source": [
    "baseline_acc = calc_ACC(baseline_yhat_te_N, y_te_N)\n",
    "print(\"Baseline has accuracy: \", baseline_acc)"
   ]
  },
  {
   "cell_type": "markdown",
   "metadata": {},
   "source": [
    "#### Short Answer 1a in Report\n",
    "\n",
    "*See instructions on website*"
   ]
  },
  {
   "cell_type": "code",
   "execution_count": null,
   "metadata": {},
   "outputs": [],
   "source": []
  },
  {
   "cell_type": "markdown",
   "metadata": {},
   "source": [
    "## Implementation Step 1C : Logistic Regression with F=2 dataset"
   ]
  },
  {
   "cell_type": "markdown",
   "metadata": {},
   "source": [
    "**TODO**: Complete each line marked TODO fixme in the codeblock below"
   ]
  },
  {
   "cell_type": "code",
   "execution_count": 22,
   "metadata": {},
   "outputs": [],
   "source": [
    "C_grid = np.logspace(-9, 6, 31)\n",
    "\n",
    "# We will fit a separate logistic regression for each C value in the C_grid\n",
    "# And store that classifier's performance metrics (lower is better)\n",
    "# So we can compare and select the best C in the future steps.\n",
    "\n",
    "model_F2_list = list()\n",
    "\n",
    "# Allocate lists for storing BCE metrics\n",
    "tr_bce_list = list()\n",
    "va_bce_list = list()\n",
    "te_bce_list = list()\n",
    "\n",
    "# Allocate lists for storing ERROR RATE metrics\n",
    "tr_err_list = list()\n",
    "va_err_list = list()\n",
    "te_err_list = list()\n",
    "\n",
    "# Remember, we justified BCE for training our classifier by saying\n",
    "# it provides an *upper bound* on the error rate.\n",
    "\n",
    "# Loop over C values, fit models, record metrics\n",
    "for C in C_grid:\n",
    "    # TODO: Follow the instruction in HW2 and train the model lr_F2\n",
    "    # Part a: Initialize a LogisticRegression classifier with desired C value\n",
    "    # Part b: train the model with the 2-feature dataset\n",
    "    lr_F2 = sklearn.linear_model.LogisticRegression(solver='lbfgs', C=C) # TODO fixme\n",
    "    lr_F2.fit(x_tr_M2[::1], y_tr_M[::1]) # TODO fixme\n",
    "    \n",
    "    model_F2_list.append(lr_F2)\n",
    "    \n",
    "    yproba1_tr_M = lr_F2.predict_proba(x_tr_M2)[:,1] # The probability of predicting class 1 on the training set\n",
    "    yproba1_va_N = lr_F2.predict_proba(x_va_N2)[:,1] # The probability of predicting class 1 on the validation set\n",
    "    \n",
    "    # Compute error rate aka zero-one loss\n",
    "    my_tr_err = sklearn.metrics.zero_one_loss(y_tr_M, yproba1_tr_M >= 0.5)\n",
    "    my_va_err = sklearn.metrics.zero_one_loss(y_va_N, yproba1_va_N >= 0.5)\n",
    "    tr_err_list.append(my_tr_err)\n",
    "    va_err_list.append(my_va_err)\n",
    "    \n",
    "    # TODO: using the calc_mean_binary_cross_entropy_from_probas() function from `above:\n",
    "    # Part c: calculate the binary cross entropy (bce) on the training set\n",
    "    # Part d: calculate the binary cross entropy (bce) on the validation set\n",
    "    my_tr_bce = calc_mean_binary_cross_entropy_from_probas(y_tr_M, yproba1_tr_M)\n",
    "    my_va_bce = calc_mean_binary_cross_entropy_from_probas(y_va_N, yproba1_va_N)\n",
    "    # Save bce for future selection on Models.\n",
    "    tr_bce_list.append(my_tr_bce) \n",
    "    va_bce_list.append(my_va_bce) "
   ]
  },
  {
   "cell_type": "code",
   "execution_count": 23,
   "metadata": {},
   "outputs": [
    {
     "data": {
      "image/png": "[encoded data removed]",
      "text/plain": [
       "<Figure size 800x550 with 1 Axes>"
      ]
     },
     "metadata": {},
     "output_type": "display_data"
    }
   ],
   "source": [
    "plt.plot(np.log10(C_grid), tr_bce_list, 'bs-', label='train BCE')\n",
    "plt.plot(np.log10(C_grid), va_bce_list, 'rs-', label='valid BCE')\n",
    "\n",
    "plt.plot(np.log10(C_grid), tr_err_list, 'b:', label='train err')\n",
    "plt.plot(np.log10(C_grid), va_err_list, 'r:', label='valid err')\n",
    "\n",
    "plt.ylabel('error')\n",
    "plt.xlabel(\"$\\log_{10} C$\");\n",
    "plt.legend(bbox_to_anchor=(1.5, 0.5)) # make legend outside plot\n",
    "plt.ylim([0, 0.7]);"
   ]
  },
  {
   "cell_type": "markdown",
   "metadata": {},
   "source": [
    "### Check Point:\n",
    "\n",
    "If your code is correct, you should produce exactly the same figure when you run the cell above as:\n",
    "\n",
    "**\"Checkpoint1C.jpg\"** in the same folder as your starter code.\n",
    "![image.png](Checkpoint1C.JPG)"
   ]
  },
  {
   "cell_type": "code",
   "execution_count": 24,
   "metadata": {
    "scrolled": true
   },
   "outputs": [
    {
     "name": "stdout",
     "output_type": "stream",
     "text": [
      "Searched over these C values:\n",
      "[1.00000000e-09 3.16227766e-09 1.00000000e-08 3.16227766e-08\n",
      " 1.00000000e-07 3.16227766e-07 1.00000000e-06 3.16227766e-06\n",
      " 1.00000000e-05 3.16227766e-05 1.00000000e-04 3.16227766e-04\n",
      " 1.00000000e-03 3.16227766e-03 1.00000000e-02 3.16227766e-02\n",
      " 1.00000000e-01 3.16227766e-01 1.00000000e+00 3.16227766e+00\n",
      " 1.00000000e+01 3.16227766e+01 1.00000000e+02 3.16227766e+02\n",
      " 1.00000000e+03 3.16227766e+03 1.00000000e+04 3.16227766e+04\n",
      " 1.00000000e+05 3.16227766e+05 1.00000000e+06]\n",
      "Recorded these BCE loss values on val set\n",
      "[0.5813486462944975, 0.5813483116634849, 0.5813472417933673, 0.5813438668569002, 0.5813332021657565, 0.5812994793055624, 0.5811930178568904, 0.5808580497615957, 0.5798155616673353, 0.5766778884024558, 0.5681388958678034, 0.5504170795820452, 0.5300315902569899, 0.5219479609614884, 0.5234818733958241, 0.524841598520725, 0.523295128924254, 0.5204234457386394, 0.5184462822989552, 0.5176008412722335, 0.5173046331390778, 0.517207715905226, 0.5171767385377396, 0.5171669070676316, 0.5171637899708026, 0.5171628047707705, 0.5171624941441078, 0.51716239601589, 0.5171623649942904, 0.5171623551852886, 0.5171623520834977]\n"
     ]
    }
   ],
   "source": [
    "print(\"Searched over these C values:\")\n",
    "print(C_grid)\n",
    "\n",
    "print(\"Recorded these BCE loss values on val set\")\n",
    "print(va_bce_list)"
   ]
  },
  {
   "cell_type": "markdown",
   "metadata": {},
   "source": [
    "**TODO** Find the best C with the samllest cross entropy loss on the validation set."
   ]
  },
  {
   "cell_type": "markdown",
   "metadata": {},
   "source": []
  },
  {
   "cell_type": "code",
   "execution_count": 25,
   "metadata": {},
   "outputs": [
    {
     "name": "stdout",
     "output_type": "stream",
     "text": [
      "Best C value for F2 model:\n",
      "1000000.0\n"
     ]
    }
   ],
   "source": [
    "# Find the best C with the smallest cross entropy loss on the validation set\n",
    "best_C__lrF2 = C_grid[np.argmin(va_bce_list)]\n",
    "\n",
    "print(\"Best C value for F2 model:\")\n",
    "print(best_C__lrF2)"
   ]
  },
  {
   "cell_type": "markdown",
   "metadata": {},
   "source": [
    "**TODO** Load the model that was rated 'best'"
   ]
  },
  {
   "cell_type": "code",
   "execution_count": 26,
   "metadata": {},
   "outputs": [
    {
     "name": "stdout",
     "output_type": "stream",
     "text": [
      "Best model has coefficient values:\n",
      "[[0.23884106 0.43491962]]\n"
     ]
    }
   ],
   "source": [
    "best_lrF2 = model_F2_list[np.argmin(va_bce_list)] # TODO fixme\n",
    "\n",
    "print(\"Best model has coefficient values:\")\n",
    "print(best_lrF2.coef_)"
   ]
  },
  {
   "cell_type": "code",
   "execution_count": 27,
   "metadata": {},
   "outputs": [],
   "source": [
    "# Output the prediction of your best model for 2-feature data on the training, valid, and test set. \n",
    "# Return the posibility of predicting true\n",
    "# We'll use them for the ROC curve\n",
    "bestlrF2_yproba1_tr_M = best_lrF2.predict_proba(x_tr_M2)[:,1]\n",
    "bestlrF2_yproba1_va_N = best_lrF2.predict_proba(x_va_N2)[:,1]\n",
    "bestlrF2_yproba1_te_N = best_lrF2.predict_proba(x_te_N2)[:,1]"
   ]
  },
  {
   "cell_type": "markdown",
   "metadata": {},
   "source": [
    "## Implementation Step 1D : Logistic Regression with F=3 dataset\n",
    "**TODO**: \n",
    "* Repeat Step 1C for 3-feature Dataset to find the best C. "
   ]
  },
  {
   "cell_type": "code",
   "execution_count": 28,
   "metadata": {},
   "outputs": [],
   "source": [
    "C_grid = np.logspace(-9, 6, 31)\n",
    "\n",
    "# We will fit a separate logistic regression for each C value in the C_grid\n",
    "# And store that classifier's performance metrics (lower is better)\n",
    "# So we can compare and select the best C in the future steps.\n",
    "\n",
    "model_F3_list = list()\n",
    "\n",
    "# Allocate lists for storing BCE metrics\n",
    "tr_bce_list = list()\n",
    "va_bce_list = list()\n",
    "te_bce_list = list()\n",
    "\n",
    "# Allocate lists for storing ERROR RATE metrics\n",
    "tr_err_list = list()\n",
    "va_err_list = list()\n",
    "te_err_list = list()\n",
    "\n",
    "# Remember, we justified BCE for training our classifier by saying\n",
    "# it provides an *upper bound* on the error rate.\n",
    "\n",
    "# Loop over C values, fit models, record metrics\n",
    "for C in C_grid:\n",
    "    # TODO: Follow the instruction in HW2 and train the model lr_F2\n",
    "    # Part a: Initialize a LogisticRegression classifier with desired C value\n",
    "    # Part b: train the model with the 2-feature dataset\n",
    "    lr_F3 = sklearn.linear_model.LogisticRegression(solver='lbfgs', C=C) # TODO fixme\n",
    "    lr_F3.fit(x_tr_M3[::1], y_tr_M[::1]) # TODO fixme\n",
    "    \n",
    "    model_F3_list.append(lr_F3)\n",
    "    \n",
    "    yproba1_tr_M = lr_F3.predict_proba(x_tr_M3)[:,1] # The probability of predicting class 1 on the training set\n",
    "    yproba1_va_N = lr_F3.predict_proba(x_va_N3)[:,1] # The probability of predicting class 1 on the validation set\n",
    "    \n",
    "    # Compute error rate aka zero-one loss\n",
    "    my_tr_err = sklearn.metrics.zero_one_loss(y_tr_M, yproba1_tr_M >= 0.5)\n",
    "    my_va_err = sklearn.metrics.zero_one_loss(y_va_N, yproba1_va_N >= 0.5)\n",
    "    tr_err_list.append(my_tr_err)\n",
    "    va_err_list.append(my_va_err)\n",
    "    \n",
    "    # TODO: using the calc_mean_binary_cross_entropy_from_probas() function from `above:\n",
    "    # Part c: calculate the binary cross entropy (bce) on the training set\n",
    "    # Part d: calculate the binary cross entropy (bce) on the validation set\n",
    "    my_tr_bce = calc_mean_binary_cross_entropy_from_probas(y_tr_M, yproba1_tr_M)\n",
    "    my_va_bce = calc_mean_binary_cross_entropy_from_probas(y_va_N, yproba1_va_N)\n",
    "    # Save bce for future selection on Models.\n",
    "    tr_bce_list.append(my_tr_bce) \n",
    "    va_bce_list.append(my_va_bce)"
   ]
  },
  {
   "cell_type": "code",
   "execution_count": 29,
   "metadata": {},
   "outputs": [
    {
     "data": {
      "image/png": "[encoded data removed]",
      "text/plain": [
       "<Figure size 800x550 with 1 Axes>"
      ]
     },
     "metadata": {},
     "output_type": "display_data"
    }
   ],
   "source": [
    "plt.plot(np.log10(C_grid), tr_bce_list, 'bs-', label='train BCE')\n",
    "plt.plot(np.log10(C_grid), va_bce_list, 'rs-', label='valid BCE')\n",
    "\n",
    "plt.plot(np.log10(C_grid), tr_err_list, 'b:', label='train err')\n",
    "plt.plot(np.log10(C_grid), va_err_list, 'r:', label='valid err')\n",
    "\n",
    "plt.ylabel('error')\n",
    "plt.xlabel(\"$\\log_{10} C$\");\n",
    "plt.legend(bbox_to_anchor=(1.5, 0.5)) # make legend outside plot\n",
    "plt.ylim([0, 0.7]);"
   ]
  },
  {
   "cell_type": "markdown",
   "metadata": {},
   "source": [
    "**TODO**:\n",
    "* Select the best C and retrieve the best model. You should name the model as \"**best_lrF3**\"."
   ]
  },
  {
   "cell_type": "code",
   "execution_count": 30,
   "metadata": {},
   "outputs": [
    {
     "name": "stdout",
     "output_type": "stream",
     "text": [
      "Best model has coefficient values:\n",
      "[[0.26004524 0.52017581 0.78979623]]\n",
      "Best C value for F3 model:\n",
      "1000000.0\n"
     ]
    }
   ],
   "source": [
    "best_lrF3 = model_F3_list[np.argmin(va_bce_list)] \n",
    "\n",
    "print(\"Best model has coefficient values:\")\n",
    "print(best_lrF3.coef_)\n",
    "\n",
    "# Find the best C with the smallest cross entropy loss on the validation set\n",
    "best_C__lrF3 = C_grid[np.argmin(va_bce_list)]\n",
    "\n",
    "print(\"Best C value for F3 model:\")\n",
    "print(best_C__lrF3)"
   ]
  },
  {
   "cell_type": "markdown",
   "metadata": {},
   "source": [
    "**TODO**:\n",
    "* Return the posibility of predicting true on training, validation and test set."
   ]
  },
  {
   "cell_type": "code",
   "execution_count": 31,
   "metadata": {},
   "outputs": [],
   "source": [
    "# TODO: Return the posibility of predicting true on training, validation and test set.\n",
    "# Hint: follow what's done in the last code block of Step 1C.\n",
    "\n",
    "prng = np.random.RandomState(101)\n",
    "bestlrF3_yproba1_tr_M = best_lrF3.predict_proba(x_tr_M3)[:,1] # TODO fixme\n",
    "bestlrF3_yproba1_va_N = best_lrF3.predict_proba(x_va_N3)[:,1]\n",
    "bestlrF3_yproba1_te_N = best_lrF3.predict_proba(x_te_N3)[:,1]"
   ]
  },
  {
   "cell_type": "markdown",
   "metadata": {},
   "source": [
    "## Implementation Step 1E : Comparing Models using ROC Analysis\n",
    "**TODO**:\n",
    "Follow the instruction to produce the figure for your report"
   ]
  },
  {
   "cell_type": "code",
   "execution_count": 32,
   "metadata": {},
   "outputs": [
    {
     "data": {
      "image/png": "[encoded data removed]",
      "text/plain": [
       "<Figure size 500x500 with 1 Axes>"
      ]
     },
     "metadata": {},
     "output_type": "display_data"
    }
   ],
   "source": [
    "# Follow the instruction of HW2 and produce Figure 1 for your report:\n",
    "plt.subplots(nrows=1, ncols=1, figsize=(5,5));\n",
    "\n",
    "from sklearn.metrics import roc_curve\n",
    "\n",
    "# TODO Use provided data and predictions on the Validation set\n",
    "# Produce the ROC Curve utilizing `sklearn.metrics.roc_curve' within plt defined above.\n",
    "# To start, read the official Document and examples of 'sklearn.metrics.roc_curve'. \n",
    "fpr2, tpr2, thresholds = roc_curve(y_va_N, bestlrF3_yproba1_va_N)\n",
    "fpr3, tpr3, thresholds = roc_curve(y_va_N, bestlrF2_yproba1_va_N)\n",
    "\n",
    "plt.plot(fpr2, tpr2, '.-', color = 'blue', label = 'F=2 Model')\n",
    "plt.plot(fpr3, tpr3, '.-', color = 'red', label = 'F=3 Model')\n",
    "\n",
    "\n",
    "# Read HW2 instructions carefully for plot style (line type, line color, etc.)\n",
    "plt.title(\"ROC on Validation Set\");\n",
    "plt.xlabel('false positive rate');\n",
    "plt.ylabel('true positive rate');\n",
    "plt.legend(loc='lower right');\n",
    "B = 0.01\n",
    "plt.xlim([0 - B, 1 + B]);\n",
    "plt.ylim([0 - B, 1 + B]);"
   ]
  },
  {
   "cell_type": "markdown",
   "metadata": {},
   "source": [
    "### Figure 1 for the report: Comparing models using ROC analysis\n",
    "**TODO**:\n",
    "Show the figure above in your report"
   ]
  },
  {
   "cell_type": "markdown",
   "metadata": {},
   "source": [
    "#### Short Answer 1b in Report\n",
    "\n",
    "*See instructions on website*"
   ]
  },
  {
   "cell_type": "code",
   "execution_count": null,
   "metadata": {},
   "outputs": [],
   "source": []
  },
  {
   "cell_type": "markdown",
   "metadata": {},
   "source": [
    "## Implementation Step 1F & 1G: Selecting a decision threshold\n"
   ]
  },
  {
   "cell_type": "markdown",
   "metadata": {},
   "source": [
    "**TODO**: Follow the instructions below to produce Figure 2\n",
    "\n",
    "Each column should correspond to one of the following models:\n",
    "\n",
    "* F=3 Logistic Regression (from 1D above), using threshold 0.5\n",
    "* F=3 Logistic Regression (from 1D above), using threshold from **1F** (See **Figure2 Column2** for implementation instruction)\n",
    "* F=3 Logistic Regression (from 1D above), using threshold from **1G** (See **Figure2 Column3** for implementation instruction)\n",
    "\n",
    "Each row should report some performance of the model on the **test** set:\n",
    "* Title: **Threshold** **(with 3 digits after decimal)** + which case (i.e **default**, **PPV >= 0.98** or **TPR>=0.98**)\n",
    "* Top Row: **Confusion Matrix** on the test set. **(with Integers)**\n",
    "* Bottom Row: **TPR** and **PPV** metrics on the test set. **(with 3 digits after decimal)**\n",
    "\n",
    "We've offered an example output on each column of Figure 2, but feel free to print out all the value needed and organize them with any software (Jupyter Notebook, Excel, Latex, etc). Then, \n",
    "**combine all columns into one figure and include it in your PDF report.**\n",
    "\n",
    "An example of Figure2 looks like\n",
    "**\"figure2_sample.png\"** in the same folder as your starter code.\n",
    "![image.png](figure2_sample.png)"
   ]
  },
  {
   "cell_type": "markdown",
   "metadata": {},
   "source": []
  },
  {
   "cell_type": "markdown",
   "metadata": {},
   "source": [
    "### Figure2 Column1: Use F=3 LR model, Use default 0.5 threshold\n",
    "#### TODO:\n",
    "* Produce the confusion matrix\n",
    "* Return TPR and PPV on the test set"
   ]
  },
  {
   "cell_type": "code",
   "execution_count": 33,
   "metadata": {},
   "outputs": [
    {
     "name": "stdout",
     "output_type": "stream",
     "text": [
      "Confusion Matrix:\n",
      "152 3\n",
      "15 10\n",
      "True Positive Rate on Test Set: 0.3999999999984\n",
      "Positive Predictive Value on Test Set: 0.7692307692248521\n",
      "Figure2 column 1: chosen thr = 0.5000, tpr = 0.4000, ppv = 0.7692,\n"
     ]
    }
   ],
   "source": [
    "best_thr_default = 0.5\n",
    "yhat_te_N = (bestlrF3_yproba1_te_N >= best_thr_default).astype(int)\n",
    "\n",
    "def calc_TP_TN_FP_FN(ytrue_N, yhat_N):\n",
    "    # Cast input to integer just to be sure we're getting what's expected\n",
    "    ytrue_N = np.asarray(ytrue_N, dtype=np.int32)\n",
    "    yhat_N = np.asarray(yhat_N, dtype=np.int32)\n",
    "    \n",
    "    # Sums total of:\n",
    "    #    TP (both 1)\n",
    "    #    TN (both 0)\n",
    "    #    FP (true = 0 and pred = 1)\n",
    "    #    FN (true = 1 and pred = 0)\n",
    "    TP  = np.sum((ytrue_N == 1) & (yhat_N == 1))\n",
    "    TN = np.sum((ytrue_N == 0) & (yhat_N == 0))\n",
    "    FP = np.sum((ytrue_N == 0) & (yhat_N == 1))\n",
    "    FN = np.sum((ytrue_N == 1) & (yhat_N == 0))\n",
    "    return TP, TN, FP, FN\n",
    "\n",
    "\n",
    "TP, TN, FP, FN = calc_TP_TN_FP_FN(y_te_N, yhat_te_N)\n",
    "\n",
    "tpr_te = calc_TPR(y_te_N, yhat_te_N)\n",
    "ppv_te = calc_PPV(y_te_N, yhat_te_N)\n",
    "\n",
    "print(\"Confusion Matrix:\")\n",
    "print(f\"{TN} {FP}\")\n",
    "print(f\"{FN} {TP}\")\n",
    "\n",
    "print(f\"True Positive Rate on Test Set: {tpr_te}\")\n",
    "print(f\"Positive Predictive Value on Test Set: {ppv_te}\")\n",
    "\n",
    "tpr = calc_TPR(y_te_N, yhat_te_N)\n",
    "ppv = calc_PPV(y_te_N, yhat_te_N)\n",
    "\n",
    "print(f\"Figure2 column 1: chosen thr = {best_thr_default :.4f}, tpr = {tpr :.4f}, ppv = {ppv :.4f},\")"
   ]
  },
  {
   "cell_type": "markdown",
   "metadata": {},
   "source": [
    "### Step 1F : Use F=3 LR model, Pick threshold to maximize TPR s.t. PPV >= 0.98"
   ]
  },
  {
   "cell_type": "markdown",
   "metadata": {},
   "source": [
    "**TODO**: Finish the code block to get the best threshold."
   ]
  },
  {
   "cell_type": "code",
   "execution_count": 36,
   "metadata": {},
   "outputs": [],
   "source": [
    "# Get the performance metrics across many thresholds\n",
    "thresh_grid, va_perf_grid = threshold_selection.compute_perf_metrics_across_thresholds(\n",
    "    y_va_N, bestlrF3_yproba1_va_N)\n"
   ]
  },
  {
   "cell_type": "code",
   "execution_count": 37,
   "metadata": {},
   "outputs": [
    {
     "name": "stdout",
     "output_type": "stream",
     "text": [
      "Figure2 column 2: chosen thr = 0.6311, tpr = 0.2000, ppv = 1.0000,\n"
     ]
    }
   ],
   "source": [
    "# Find threshold that makes TPR as large as possible, while satisfying PPV >= 0.98\n",
    "# TODO Find the the largest TPR while PPV >= 0.98\n",
    "\n",
    "best_thr_tpr = 0.5 # TODO fixme\n",
    "tpr1 = 0.0 # TODO fixme\n",
    "ppv1 = 0.0 # TODO fixme\n",
    "\n",
    "for key, value in va_perf_grid.items():\n",
    "    if key == 'tpr':\n",
    "        tpr_values = value\n",
    "    elif key == 'ppv':\n",
    "        ppv_values = value\n",
    "    \n",
    "for thr, tpr, ppv in zip(thresh_grid, tpr_values, ppv_values):\n",
    "    if ppv >= 0.98:\n",
    "        if tpr > tpr1:\n",
    "            best_thr_tpr = thr\n",
    "            tpr1 = tpr\n",
    "            ppv1 = ppv\n",
    "\n",
    "print(f\"Figure2 column 2: chosen thr = {best_thr_tpr :.4f}, tpr = {tpr1 :.4f}, ppv = {ppv1 :.4f},\")"
   ]
  },
  {
   "cell_type": "markdown",
   "metadata": {},
   "source": [
    "**TODO**: Using the chosen **best_thr** above\n",
    "* Produce the confusion matrix\n",
    "* Return TPR and PPV on the test set"
   ]
  },
  {
   "cell_type": "code",
   "execution_count": 38,
   "metadata": {},
   "outputs": [
    {
     "name": "stdout",
     "output_type": "stream",
     "text": [
      "Confusion Matrix:\n",
      "155 0\n",
      "20 5\n",
      "True Positive Rate on Test Set: 0.1999999999992\n",
      "Positive Predictive Value on Test Set: 0.99999999998\n"
     ]
    }
   ],
   "source": [
    "yhat_te_N = (bestlrF3_yproba1_te_N >= best_thr_tpr).astype(int)\n",
    "\n",
    "def calc_TP_TN_FP_FN(ytrue_N, yhat_N):\n",
    "    # Cast input to integer just to be sure we're getting what's expected\n",
    "    ytrue_N = np.asarray(ytrue_N, dtype=np.int32)\n",
    "    yhat_N = np.asarray(yhat_N, dtype=np.int32)\n",
    "    \n",
    "    # Sums total of:\n",
    "    #    TP (both 1)\n",
    "    #    TN (both 0)\n",
    "    #    FP (true = 0 and pred = 1)\n",
    "    #    FN (true = 1 and pred = 0)\n",
    "    TP  = np.sum((ytrue_N == 1) & (yhat_N == 1))\n",
    "    TN = np.sum((ytrue_N == 0) & (yhat_N == 0))\n",
    "    FP = np.sum((ytrue_N == 0) & (yhat_N == 1))\n",
    "    FN = np.sum((ytrue_N == 1) & (yhat_N == 0))\n",
    "    return TP, TN, FP, FN\n",
    "\n",
    "\n",
    "TP, TN, FP, FN = calc_TP_TN_FP_FN(y_te_N, yhat_te_N)\n",
    "\n",
    "tpr_te = calc_TPR(y_te_N, yhat_te_N)\n",
    "ppv_te = calc_PPV(y_te_N, yhat_te_N)\n",
    "\n",
    "print(\"Confusion Matrix:\")\n",
    "print(f\"{TN} {FP}\")\n",
    "print(f\"{FN} {TP}\")\n",
    "\n",
    "print(f\"True Positive Rate on Test Set: {tpr_te}\")\n",
    "print(f\"Positive Predictive Value on Test Set: {ppv_te}\")"
   ]
  },
  {
   "cell_type": "markdown",
   "metadata": {},
   "source": [
    "### Step 1G: Use F=3 LR model, Pick threshold to maximize PPV s.t. TPR >= 0.98\n",
    "\n",
    "#### TODO: \n",
    "Using a similar logistic from **Step 1F** above\n",
    "* Choose threshold that makes TPR as large as possible, while satisfying PPV >= 0.98\n",
    "* Produce the confusion matrix using the chosen threshold\n",
    "* Return TPR and PPV on the test set using the chosen threshold"
   ]
  },
  {
   "cell_type": "code",
   "execution_count": 53,
   "metadata": {},
   "outputs": [
    {
     "name": "stdout",
     "output_type": "stream",
     "text": [
      "Figure2 column 3: chosen thr = 0.0296, tpr = 1.0000, ppv = 0.1852\n"
     ]
    }
   ],
   "source": [
    "# Find threshold that makes TPR as large as possible, while satisfying PPV >= 0.98\n",
    "# TODO Find the largest PPV while TPR >= 0.98\n",
    "best_thr_ppv0 = 0.5 # TODO fixme\n",
    "tpr2 = 0.0 # TODO fixme\n",
    "ppv2 = 0.0 # TODO fixme\n",
    "\n",
    "for key, value in va_perf_grid.items():\n",
    "    if key == 'tpr':\n",
    "        tpr_values = value\n",
    "    elif key == 'ppv':\n",
    "        ppv_values = value\n",
    "    \n",
    "for thr, tpr, ppv in zip(thresh_grid, tpr_values, ppv_values):\n",
    "    if tpr >= 0.98:\n",
    "        if ppv > ppv2:\n",
    "            best_thr_ppv0 = thr\n",
    "            tpr2 = tpr\n",
    "            ppv2 = ppv\n",
    "            \n",
    "print(\"Figure2 column 3: chosen thr = %.4f, tpr = %.4f, ppv = %.4f\" % (best_thr_ppv0, tpr2, ppv2))"
   ]
  },
  {
   "cell_type": "code",
   "execution_count": 52,
   "metadata": {},
   "outputs": [
    {
     "name": "stdout",
     "output_type": "stream",
     "text": [
      "Confusion Matrix:\n",
      "57 98\n",
      "0 25\n",
      "True Positive Rate on Test Set: 0.9999999999960001\n",
      "Positive Predictive Value on Test Set: 0.20325203252015994\n"
     ]
    }
   ],
   "source": [
    "yhat_te_N = (bestlrF3_yproba1_te_N >= best_thr_ppv0).astype(int)\n",
    "\n",
    "def calc_TP_TN_FP_FN(ytrue_N, yhat_N):\n",
    "    # Cast input to integer just to be sure we're getting what's expected\n",
    "    ytrue_N = np.asarray(ytrue_N, dtype=np.int32)\n",
    "    yhat_N = np.asarray(yhat_N, dtype=np.int32)\n",
    "    \n",
    "    # Sums total of:\n",
    "    #    TP (both 1)\n",
    "    #    TN (both 0)\n",
    "    #    FP (true = 0 and pred = 1)\n",
    "    #    FN (true = 1 and pred = 0)\n",
    "    TP  = np.sum((ytrue_N == 1) & (yhat_N == 1))\n",
    "    TN = np.sum((ytrue_N == 0) & (yhat_N == 0))\n",
    "    FP = np.sum((ytrue_N == 0) & (yhat_N == 1))\n",
    "    FN = np.sum((ytrue_N == 1) & (yhat_N == 0))\n",
    "    return TP, TN, FP, FN\n",
    "\n",
    "\n",
    "TP, TN, FP, FN = calc_TP_TN_FP_FN(y_te_N, yhat_te_N)\n",
    "\n",
    "tpr_te = calc_TPR(y_te_N, yhat_te_N)\n",
    "ppv_te = calc_PPV(y_te_N, yhat_te_N)\n",
    "\n",
    "print(\"Confusion Matrix:\")\n",
    "print(f\"{TN} {FP}\")\n",
    "print(f\"{FN} {TP}\")\n",
    "\n",
    "print(f\"True Positive Rate on Test Set: {tpr_te}\")\n",
    "print(f\"Positive Predictive Value on Test Set: {ppv_te}\")"
   ]
  },
  {
   "cell_type": "markdown",
   "metadata": {},
   "source": [
    "Once you finish all three parts of figure 2, plase **combine all 3 column** into **one figure** and include it in your PDF report. \n",
    "\n",
    "Remember to **add titles** (Threshold + which case) to each column."
   ]
  },
  {
   "cell_type": "markdown",
   "metadata": {},
   "source": [
    "#### Short Answer 1c and 1d in Report\n",
    "\n",
    "*See instructions on website*"
   ]
  },
  {
   "cell_type": "code",
   "execution_count": null,
   "metadata": {},
   "outputs": [],
   "source": []
  },
  {
   "cell_type": "code",
   "execution_count": null,
   "metadata": {},
   "outputs": [],
   "source": []
  }
 ],
 "metadata": {
  "kernelspec": {
   "display_name": "Python 3 (ipykernel)",
   "language": "python",
   "name": "python3"
  },
  "language_info": {
   "codemirror_mode": {
    "name": "ipython",
    "version": 3
   },
   "file_extension": ".py",
   "mimetype": "text/x-python",
   "name": "python",
   "nbconvert_exporter": "python",
   "pygments_lexer": "ipython3",
   "version": "3.10.12"
  }
 },
 "nbformat": 4,
 "nbformat_minor": 2
}
