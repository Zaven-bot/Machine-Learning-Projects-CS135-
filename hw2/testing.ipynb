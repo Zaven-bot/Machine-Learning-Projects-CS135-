{
 "cells": [
  {
   "cell_type": "code",
   "execution_count": 6,
   "id": "97d6c2c5",
   "metadata": {},
   "outputs": [],
   "source": [
    "'''\n",
    "logsumexp.py\n",
    "\n",
    "Provides a numerically implementation of logsumexp function,\n",
    "such that no matter what 1-dimensional input array is provided,\n",
    "we return a finite floating point answer that does not overflow or underflow.\n",
    "\n",
    "References\n",
    "----------\n",
    "See the math here:\n",
    "https://www.cs.tufts.edu/cs/135/2023f/hw2.html#logsumexp\n",
    "'''\n",
    "\n",
    "import numpy as np\n",
    "\n",
    "# No other imports allowed\n",
    "\n",
    "def my_logsumexp(scores_N):\n",
    "    ''' Compute logsumexp on provided array in numerically stable way.\n",
    "\n",
    "    This function only handles 1D arrays.\n",
    "    The equivalent scipy function can handle arrays of many dimensions.\n",
    "\n",
    "    Args\n",
    "    ----\n",
    "    scores_N : 1D NumPy array, shape (N,)\n",
    "        An array of real values\n",
    "\n",
    "    Returns\n",
    "    -------\n",
    "    a : float\n",
    "        Result of the logsumexp computation\n",
    "\n",
    "    Examples\n",
    "    --------\n",
    "    >>> _ = np.seterr(all='raise') # Make any numerical issue raise error\n",
    "\n",
    "    # Example 1: an array without overflow trouble, so you get the basic idea\n",
    "    >>> easy_arr_N = np.asarray([0., 1., 0.1])\n",
    "\n",
    "    # Show that your code does OK on Example 1\n",
    "    >>> easy_ans = my_logsumexp(easy_arr_N)\n",
    "    >>> print(\"%.5f\" % (easy_ans))\n",
    "    1.57349\n",
    "\n",
    "    # Show that naive implementation does OK on Example 1\n",
    "    >>> naive_ans = np.log(np.sum(np.exp(easy_arr_N)))\n",
    "    >>> print(\"%.5f\" % (naive_ans))\n",
    "    0.57349\n",
    "    \n",
    "    # Example 2: an array where overflow would occur in bad implementation\n",
    "    >>> tough_arr_N = [1000., 1001., 1002.]\n",
    "\n",
    "    # Show that naive implementation suffers from overflow on Example 2\n",
    "    >>> naive_ans = np.log(np.sum(np.exp(tough_arr_N)))\n",
    "    Traceback (most recent call last):\n",
    "    ...\n",
    "    FloatingPointError: overflow encountered in exp\n",
    "\n",
    "    # Show that your implementation does well on Example 2\n",
    "    >>> ans_that_wont_overflow = my_logsumexp(tough_arr_N)\n",
    "    >>> np.isfinite(ans_that_wont_overflow)\n",
    "    True\n",
    "    >>> print(\"%.5f\" % (ans_that_wont_overflow))\n",
    "    1002.40761\n",
    "    '''\n",
    "    scores_N = np.asarray(scores_N, dtype=np.float64)\n",
    "\n",
    "    # See math on HW2 instructions page for the correct approach\n",
    "    m = np.max(scores_N) # TODO fix me: the maximum entry of the vector scores_N\n",
    "    scores_N -= m\n",
    "\n",
    "    logsumexp = m + np.log(np.sum(np.exp(scores_N))) # TODO fix me: compute logsumexp in numerically stable way\n",
    "\n",
    "    return logsumexp  # TODO fix me"
   ]
  },
  {
   "cell_type": "code",
   "execution_count": 7,
   "id": "bb65abfa",
   "metadata": {},
   "outputs": [
    {
     "name": "stdout",
     "output_type": "stream",
     "text": [
      "0.4076059644443804\n"
     ]
    }
   ],
   "source": [
    "arr = [-2., -1.,  0.]\n",
    "hello = my_logsumexp(arr)\n",
    "print(hello)"
   ]
  },
  {
   "cell_type": "code",
   "execution_count": null,
   "id": "6f3cf610",
   "metadata": {},
   "outputs": [],
   "source": []
  },
  {
   "cell_type": "code",
   "execution_count": null,
   "id": "9a46b4b4",
   "metadata": {},
   "outputs": [],
   "source": []
  }
 ],
 "metadata": {
  "kernelspec": {
   "display_name": "Python 3 (ipykernel)",
   "language": "python",
   "name": "python3"
  },
  "language_info": {
   "codemirror_mode": {
    "name": "ipython",
    "version": 3
   },
   "file_extension": ".py",
   "mimetype": "text/x-python",
   "name": "python",
   "nbconvert_exporter": "python",
   "pygments_lexer": "ipython3",
   "version": "3.10.12"
  }
 },
 "nbformat": 4,
 "nbformat_minor": 5
}
