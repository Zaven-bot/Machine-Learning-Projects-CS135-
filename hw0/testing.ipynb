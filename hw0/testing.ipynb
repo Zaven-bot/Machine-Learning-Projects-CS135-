{
 "cells": [
  {
   "cell_type": "code",
   "execution_count": 3,
   "id": "8b150f9e",
   "metadata": {},
   "outputs": [],
   "source": [
    "'''\n",
    "K Nearest Neighbors\n",
    "\n",
    ">>> data_NF = np.asarray([\n",
    "...     [1, 0],\n",
    "...     [0, 1],\n",
    "...     [-1, 0],\n",
    "...     [0, -1]])\n",
    ">>> query_QF = np.asarray([\n",
    "...     [0.9, 0],\n",
    "...     [0, -0.9]])\n",
    "\n",
    "Example Test K=1\n",
    "----------------\n",
    "# Find the single nearest neighbor for each query vector\n",
    ">>> neighb_QKF = calc_k_nearest_neighbors(data_NF, query_QF, K=1)\n",
    ">>> neighb_QKF.shape\n",
    "(2, 1, 2)\n",
    "\n",
    "# Neighbor of [0.9, 0]\n",
    ">>> neighb_QKF[0]\n",
    "array([[1., 0.]])\n",
    "\n",
    "# Neighbor of [0, -0.9]\n",
    ">>> neighb_QKF[1]\n",
    "array([[ 0., -1.]])\n",
    "\n",
    "Example Test K=3\n",
    "----------------\n",
    "# Now find 3 nearest neighbors for the same queries\n",
    ">>> neighb_QKF = calc_k_nearest_neighbors(data_NF, query_QF, K=3)\n",
    ">>> neighb_QKF.shape\n",
    "(2, 3, 2)\n",
    "\n",
    "# Neighbor of [0.9, 0]\n",
    ">>> neighb_QKF[0]\n",
    "array([[ 1.,  0.],\n",
    "       [ 0.,  1.],\n",
    "       [ 0., -1.]])\n",
    "\n",
    "# Neighbor of [0, -0.9]\n",
    ">>> neighb_QKF[1]\n",
    "array([[ 0., -1.],\n",
    "       [ 1.,  0.],\n",
    "       [-1.,  0.]])\n",
    "'''\n",
    "import numpy as np\n",
    "\n",
    "def calc_k_nearest_neighbors(data_NF, query_QF, K=1):\n",
    "    ''' Compute and return k-nearest neighbors under Euclidean distance\n",
    "\n",
    "    Args\n",
    "    ----\n",
    "    data_NF : 2D np.array, shape = (n_examples, n_feats) == (N, F)\n",
    "        Each row is a feature vector for one example in dataset\n",
    "    query_QF : 2D np.array, shape = (n_queries, n_feats) == (Q, F)\n",
    "        Each row is a feature vector whose neighbors we want to find\n",
    "    K : int, must satisfy K >= 1 and K <= n_examples aka N\n",
    "        Number of neighbors to find per query vector\n",
    "\n",
    "    Returns\n",
    "    -------\n",
    "    neighb_QKF : 3D np.array, (n_queries, n_neighbors, n_feats) == (Q, K, F)\n",
    "        Entry q,k is feature vector of k-th nearest neighbor of the q-th query\n",
    "        If two vectors are equally close, then we break ties by taking the one\n",
    "        appearing first in row order in the original data_NF array\n",
    "    '''\n",
    "        \n",
    "    # create the array which will hold the KNN\n",
    "    neighb_QKF = np.zeros(shape=(query_QF.shape[0], K, query_QF.shape[1]))\n",
    "    \n",
    "    q_ctr = 0\n",
    "    # for every query point\n",
    "    for query in query_QF:\n",
    "        # store its coordinates\n",
    "        x_q = query[0]\n",
    "        y_q = query[1]\n",
    "        \n",
    "        # create a N x 2 2D-array to hold the index in data_NF [0]\n",
    "        # and the distance from the query pt. to data pt. [1]\n",
    "        distances = np.zeros((data_NF.shape[0], data_NF.shape[1]))\n",
    "\n",
    "        counter = 0\n",
    "        for data in data_NF:\n",
    "            x_f = data[0]\n",
    "            y_f = data[1]\n",
    "            \n",
    "            # calculate distance from data pt. to query pt. \n",
    "            distance = ((x_q - x_f) ** 2 + (y_q - y_f) ** 2) ** 0.5\n",
    "            \n",
    "            # insert (index in data_NF, distance)\n",
    "            distances[counter] = [counter, float(distance)] \n",
    "            counter = counter + 1\n",
    "        \n",
    "        print(f\"Distance for query {q_ctr}: {distances}\")\n",
    "        # merge Sort to sort all the distances based off\n",
    "        # of their distances (query pt. to data pt.)\n",
    "        mergesort(distances, 0, distances.shape[0] - 1)\n",
    "\n",
    "        # insert only K point coordinates into return array\n",
    "        # in increasing order\n",
    "        for i in range(0, K):\n",
    "            data_key = int(distances[i, 0])\n",
    "            neighb_QKF[q_ctr, i] = data_NF[data_key]\n",
    "        \n",
    "        # look at next query point\n",
    "        q_ctr += 1\n",
    "        \n",
    "    return neighb_QKF\n",
    "\n",
    "def mergesort(arr, l, r):\n",
    "    if (l < r):\n",
    "        # recursively call \n",
    "        m = (l + r) // 2\n",
    "        mergesort(arr, l, m)\n",
    "        mergesort(arr, m + 1, r)\n",
    "        merge(arr, l, m, r)\n",
    "\n",
    "# l = left index\n",
    "# m = middle index\n",
    "# r = right index\n",
    "# arr = array of distances\n",
    "def merge(arr, l, m, r):\n",
    "    # create temp left / right arrays\n",
    "    L = np.zeros((m - l + 1, 2))\n",
    "    R = np.zeros((r - m, 2))\n",
    "    \n",
    "    # copy distances to L\n",
    "    lidx = 0\n",
    "    for i in range(l, m + 1):\n",
    "        L[lidx] = arr[i]\n",
    "        lidx += 1\n",
    "        \n",
    "    # copy distances to R\n",
    "    ridx = 0\n",
    "    for k in range(m + 1, r + 1):\n",
    "        R[ridx] = arr[k]\n",
    "        ridx += 1\n",
    "\n",
    "    # merge L and R back into arr\n",
    "    rsize = np.shape(R)[0]\n",
    "    rctr = 0\n",
    "    lsize = np.shape(L)[0]\n",
    "    lctr = 0\n",
    "    actr = l\n",
    "    \n",
    "    # expend the distances (in increasing order) until one array\n",
    "    # is completely done\n",
    "    while lctr < lsize and rctr < rsize:\n",
    "        # left array has smaller value\n",
    "        if L[lctr][1] <= R[rctr][1]:\n",
    "            arr[actr] = L[lctr]\n",
    "            lctr += 1\n",
    "        # right array has smaller value\n",
    "        else:\n",
    "            arr[actr] = R[rctr]\n",
    "            rctr += 1\n",
    "        actr += 1 \n",
    "        \n",
    "    # left didn't expend all distances\n",
    "    while lctr < lsize:\n",
    "        arr[actr] = L[lctr]\n",
    "        lctr += 1\n",
    "        actr += 1\n",
    "    \n",
    "    # right didn't expend all distances\n",
    "    while rctr < rsize:\n",
    "        arr[actr] = R[rctr]\n",
    "        rctr += 1\n",
    "        actr += 1"
   ]
  },
  {
   "cell_type": "code",
   "execution_count": 4,
   "id": "e02388ab",
   "metadata": {},
   "outputs": [
    {
     "name": "stdout",
     "output_type": "stream",
     "text": [
      "Distance for query 0: [[0.        0.1      ]\n",
      " [1.        1.3453624]\n",
      " [2.        1.9      ]\n",
      " [3.        1.3453624]]\n",
      "Distance for query 1: [[0.        1.3453624]\n",
      " [1.        1.9      ]\n",
      " [2.        1.3453624]\n",
      " [3.        0.1      ]]\n"
     ]
    },
    {
     "data": {
      "text/plain": [
       "array([[[ 1.,  0.]],\n",
       "\n",
       "       [[ 0., -1.]]])"
      ]
     },
     "execution_count": 4,
     "metadata": {},
     "output_type": "execute_result"
    }
   ],
   "source": [
    "data_NF = np.asarray([[1, 0], [0, 1], [-1, 0], [0, -1]])\n",
    "query_QF = np.asarray([[0.9, 0], [0, -0.9]])\n",
    "calc_k_nearest_neighbors(data_NF, query_QF, K=1)"
   ]
  },
  {
   "cell_type": "code",
   "execution_count": 6,
   "id": "45a77ac5",
   "metadata": {},
   "outputs": [
    {
     "name": "stdout",
     "output_type": "stream",
     "text": [
      "[0. 0.]\n"
     ]
    }
   ],
   "source": [
    "print(L[0])"
   ]
  },
  {
   "cell_type": "code",
   "execution_count": 7,
   "id": "de279085",
   "metadata": {},
   "outputs": [],
   "source": [
    "L[0] = [0, 5]"
   ]
  },
  {
   "cell_type": "code",
   "execution_count": 8,
   "id": "54a2aa59",
   "metadata": {},
   "outputs": [
    {
     "name": "stdout",
     "output_type": "stream",
     "text": [
      "[[0. 5.]\n",
      " [0. 0.]\n",
      " [0. 0.]]\n"
     ]
    }
   ],
   "source": [
    "print(L)"
   ]
  },
  {
   "cell_type": "code",
   "execution_count": 9,
   "id": "a806dada",
   "metadata": {},
   "outputs": [
    {
     "name": "stdout",
     "output_type": "stream",
     "text": [
      "[0. 5.]\n"
     ]
    }
   ],
   "source": [
    "print(L[0])"
   ]
  },
  {
   "cell_type": "code",
   "execution_count": 10,
   "id": "2a4fc0fb",
   "metadata": {},
   "outputs": [
    {
     "data": {
      "text/plain": [
       "(3, 2)"
      ]
     },
     "execution_count": 10,
     "metadata": {},
     "output_type": "execute_result"
    }
   ],
   "source": [
    "np.shape(L)"
   ]
  },
  {
   "cell_type": "code",
   "execution_count": 11,
   "id": "3ba622ff",
   "metadata": {},
   "outputs": [
    {
     "name": "stdout",
     "output_type": "stream",
     "text": [
      "3\n"
     ]
    }
   ],
   "source": [
    "print(np.shape(L)[0])"
   ]
  },
  {
   "cell_type": "code",
   "execution_count": 20,
   "id": "75ea2cfb",
   "metadata": {},
   "outputs": [],
   "source": [
    "def mergesort(arr, l, r):\n",
    "    if (l < r):\n",
    "        m = (l + r) // 2\n",
    "#         print(f\"------- l: {l},  m: {m},  r: {r} ---------\")\n",
    "        mergesort(arr, l, m)\n",
    "        mergesort(arr, m + 1, r)\n",
    "        merge(arr, l, m, r)\n",
    "\n",
    "# l = left index\n",
    "# m = middle index\n",
    "# r = right index\n",
    "# arr = array of distances\n",
    "def merge(arr, l, m, r):\n",
    "#     print(f\"--------- Start of merge arr: {arr}\")\n",
    "    # create temp distance arrays\n",
    "    L = np.zeros((m - l + 1, 2))\n",
    "    R = np.zeros((r - m, 2))\n",
    "    \n",
    "    # copy distances from distances to L and R\n",
    "#     print(f\"From {l} to {m + 1}\")\n",
    "    lidx = 0\n",
    "    for i in range(l, m + 1):\n",
    "        L[lidx] = arr[i]\n",
    "        lidx += 1\n",
    "        \n",
    "#     print(f\"From {m + 1} to {r + 1}\")\n",
    "    ridx = 0\n",
    "    for k in range(m + 1, r + 1):\n",
    "        R[ridx] = arr[k]\n",
    "        ridx += 1\n",
    "    \n",
    "        \n",
    "#     print(f\"Copied L: {L}\")\n",
    "#     print(f\"Copied R: {R}\")\n",
    "    # merge L and R back into arr\n",
    "    rsize = np.shape(R)[0]\n",
    "    rctr = 0\n",
    "    lsize = np.shape(L)[0]\n",
    "    lctr = 0\n",
    "    actr = l\n",
    "    \n",
    "    while lctr < lsize and rctr < rsize:\n",
    "#         print(\"while loop\")\n",
    "        if L[lctr][1] <= R[rctr][1]:\n",
    "            arr[actr] = L[lctr]\n",
    "#             print(f\"{L[lctr, 1]} added in l\")\n",
    "            lctr += 1\n",
    "        else:\n",
    "            arr[actr] = R[rctr]\n",
    "#             print(f\"{R[rctr, 1]} added in r\")\n",
    "            rctr += 1\n",
    "        actr += 1 \n",
    "        \n",
    "    # whichever array didn't finish, fills the rest\n",
    "    while lctr < lsize:\n",
    "#         print(\"lctr < lsize\")\n",
    "        arr[actr] = L[lctr]\n",
    "#         print(f\"{L[lctr, 1]} added later\")\n",
    "        lctr += 1\n",
    "        actr += 1\n",
    "        \n",
    "    while rctr < rsize:\n",
    "#         print(\"rctr < rsize\")\n",
    "        arr[actr] = R[rctr]\n",
    "#         print(f\"{R[rctr, 1]} added later\")\n",
    "        rctr += 1\n",
    "        actr += 1\n",
    "    \n",
    "#     print(f\"End of merge arr: {arr}\")\n",
    "        "
   ]
  },
  {
   "cell_type": "code",
   "execution_count": 21,
   "id": "3038d349",
   "metadata": {},
   "outputs": [
    {
     "name": "stdout",
     "output_type": "stream",
     "text": [
      "------------------------------------\n",
      "<class 'numpy.ndarray'>\n",
      "[array([5., 7.]), array([ 4., 13.]), array([ 1., 15.]), array([ 8., 16.]), array([ 2., 19.])]\n"
     ]
    }
   ],
   "source": [
    "array = [[8, 16], [1, 15], [2, 19], [4, 13], [5, 7]]\n",
    "mergesort(array, 0, 4)\n",
    "print(\"------------------------------------\")\n",
    "print(type(array[1]))\n",
    "print(array)"
   ]
  },
  {
   "cell_type": "code",
   "execution_count": 17,
   "id": "540a6810",
   "metadata": {},
   "outputs": [],
   "source": [
    "for z in range(1,1):\n",
    "    print(\"hello\")"
   ]
  },
  {
   "cell_type": "code",
   "execution_count": 155,
   "id": "a2892be1",
   "metadata": {},
   "outputs": [
    {
     "data": {
      "text/plain": [
       "0.09999999999999998"
      ]
     },
     "execution_count": 155,
     "metadata": {},
     "output_type": "execute_result"
    }
   ],
   "source": [
    "((1 - 0.9) ** 2 + (0 - 0) ** 2) ** 0.5"
   ]
  },
  {
   "cell_type": "code",
   "execution_count": null,
   "id": "879cbb77",
   "metadata": {},
   "outputs": [],
   "source": []
  }
 ],
 "metadata": {
  "kernelspec": {
   "display_name": "Python 3 (ipykernel)",
   "language": "python",
   "name": "python3"
  },
  "language_info": {
   "codemirror_mode": {
    "name": "ipython",
    "version": 3
   },
   "file_extension": ".py",
   "mimetype": "text/x-python",
   "name": "python",
   "nbconvert_exporter": "python",
   "pygments_lexer": "ipython3",
   "version": "3.10.12"
  }
 },
 "nbformat": 4,
 "nbformat_minor": 5
}
